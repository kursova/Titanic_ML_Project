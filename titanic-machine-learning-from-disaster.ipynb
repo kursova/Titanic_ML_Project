{
 "cells": [
  {
   "cell_type": "code",
   "execution_count": 1,
   "id": "33c91420",
   "metadata": {
    "_cell_guid": "b1076dfc-b9ad-4769-8c92-a6c4dae69d19",
    "_uuid": "8f2839f25d086af736a60e9eeb907d3b93b6e0e5",
    "execution": {
     "iopub.execute_input": "2024-08-07T19:24:33.582927Z",
     "iopub.status.busy": "2024-08-07T19:24:33.582435Z",
     "iopub.status.idle": "2024-08-07T19:24:34.619113Z",
     "shell.execute_reply": "2024-08-07T19:24:34.617829Z"
    },
    "papermill": {
     "duration": 1.048907,
     "end_time": "2024-08-07T19:24:34.622237",
     "exception": false,
     "start_time": "2024-08-07T19:24:33.573330",
     "status": "completed"
    },
    "tags": []
   },
   "outputs": [
    {
     "name": "stdout",
     "output_type": "stream",
     "text": [
      "/kaggle/input/titanic/train.csv\n",
      "/kaggle/input/titanic/test.csv\n",
      "/kaggle/input/titanic/gender_submission.csv\n"
     ]
    }
   ],
   "source": [
    "# This Python 3 environment comes with many helpful analytics libraries installed\n",
    "# It is defined by the kaggle/python Docker image: https://github.com/kaggle/docker-python\n",
    "# For example, here's several helpful packages to load\n",
    "\n",
    "import numpy as np # linear algebra\n",
    "import pandas as pd # data processing, CSV file I/O (e.g. pd.read_csv)\n",
    "\n",
    "# Input data files are available in the read-only \"../input/\" directory\n",
    "# For example, running this (by clicking run or pressing Shift+Enter) will list all files under the input directory\n",
    "\n",
    "import os\n",
    "for dirname, _, filenames in os.walk('/kaggle/input'):\n",
    "    for filename in filenames:\n",
    "        print(os.path.join(dirname, filename))\n",
    "\n",
    "# You can write up to 20GB to the current directory (/kaggle/working/) that gets preserved as output when you create a version using \"Save & Run All\" \n",
    "# You can also write temporary files to /kaggle/temp/, but they won't be saved outside of the current session"
   ]
  },
  {
   "cell_type": "markdown",
   "id": "03037d93",
   "metadata": {
    "papermill": {
     "duration": 0.006694,
     "end_time": "2024-08-07T19:24:34.636617",
     "exception": false,
     "start_time": "2024-08-07T19:24:34.629923",
     "status": "completed"
    },
    "tags": []
   },
   "source": [
    "/kaggle/input/titanic/train.csv\n",
    "\n",
    "/kaggle/input/titanic/test.csv\n",
    "\n",
    "/kaggle/input/titanic/gender_submission.csv"
   ]
  },
  {
   "cell_type": "code",
   "execution_count": 2,
   "id": "87ade944",
   "metadata": {
    "execution": {
     "iopub.execute_input": "2024-08-07T19:24:34.653140Z",
     "iopub.status.busy": "2024-08-07T19:24:34.652515Z",
     "iopub.status.idle": "2024-08-07T19:24:34.690193Z",
     "shell.execute_reply": "2024-08-07T19:24:34.688920Z"
    },
    "papermill": {
     "duration": 0.049246,
     "end_time": "2024-08-07T19:24:34.693055",
     "exception": false,
     "start_time": "2024-08-07T19:24:34.643809",
     "status": "completed"
    },
    "tags": []
   },
   "outputs": [],
   "source": [
    "train_data=pd.read_csv('/kaggle/input/titanic/train.csv')\n",
    "test_data=pd.read_csv('/kaggle/input/titanic/test.csv')"
   ]
  },
  {
   "cell_type": "code",
   "execution_count": 3,
   "id": "3aa429f2",
   "metadata": {
    "execution": {
     "iopub.execute_input": "2024-08-07T19:24:34.710001Z",
     "iopub.status.busy": "2024-08-07T19:24:34.708543Z",
     "iopub.status.idle": "2024-08-07T19:24:34.737623Z",
     "shell.execute_reply": "2024-08-07T19:24:34.736243Z"
    },
    "papermill": {
     "duration": 0.040082,
     "end_time": "2024-08-07T19:24:34.740229",
     "exception": false,
     "start_time": "2024-08-07T19:24:34.700147",
     "status": "completed"
    },
    "tags": []
   },
   "outputs": [
    {
     "name": "stdout",
     "output_type": "stream",
     "text": [
      "   PassengerId  Survived  Pclass                                               Name     Sex   Age  SibSp  Parch            Ticket     Fare Cabin Embarked\n",
      "0            1         0       3                            Braund, Mr. Owen Harris    male  22.0      1      0         A/5 21171   7.2500   NaN        S\n",
      "1            2         1       1  Cumings, Mrs. John Bradley (Florence Briggs Th...  female  38.0      1      0          PC 17599  71.2833   C85        C\n",
      "2            3         1       3                             Heikkinen, Miss. Laina  female  26.0      0      0  STON/O2. 3101282   7.9250   NaN        S\n",
      "3            4         1       1       Futrelle, Mrs. Jacques Heath (Lily May Peel)  female  35.0      1      0            113803  53.1000  C123        S\n",
      "4            5         0       3                           Allen, Mr. William Henry    male  35.0      0      0            373450   8.0500   NaN        S\n",
      "\n",
      "   PassengerId  Pclass                                          Name     Sex   Age  SibSp  Parch   Ticket     Fare Cabin Embarked\n",
      "0          892       3                              Kelly, Mr. James    male  34.5      0      0   330911   7.8292   NaN        Q\n",
      "1          893       3              Wilkes, Mrs. James (Ellen Needs)  female  47.0      1      0   363272   7.0000   NaN        S\n",
      "2          894       2                     Myles, Mr. Thomas Francis    male  62.0      0      0   240276   9.6875   NaN        Q\n",
      "3          895       3                              Wirz, Mr. Albert    male  27.0      0      0   315154   8.6625   NaN        S\n",
      "4          896       3  Hirvonen, Mrs. Alexander (Helga E Lindqvist)  female  22.0      1      1  3101298  12.2875   NaN        S\n"
     ]
    }
   ],
   "source": [
    "pd.set_option('display.max.columns', None)\n",
    "pd.set_option('display.width',3000)\n",
    "print(train_data.head())\n",
    "print()\n",
    "print(test_data.head())"
   ]
  },
  {
   "cell_type": "code",
   "execution_count": 4,
   "id": "246f9215",
   "metadata": {
    "execution": {
     "iopub.execute_input": "2024-08-07T19:24:34.757693Z",
     "iopub.status.busy": "2024-08-07T19:24:34.757174Z",
     "iopub.status.idle": "2024-08-07T19:24:53.490479Z",
     "shell.execute_reply": "2024-08-07T19:24:53.489232Z"
    },
    "papermill": {
     "duration": 18.745831,
     "end_time": "2024-08-07T19:24:53.493564",
     "exception": false,
     "start_time": "2024-08-07T19:24:34.747733",
     "status": "completed"
    },
    "tags": []
   },
   "outputs": [
    {
     "name": "stdout",
     "output_type": "stream",
     "text": [
      "Collecting researchpy\r\n",
      "  Downloading researchpy-0.3.6-py3-none-any.whl.metadata (1.2 kB)\r\n",
      "Requirement already satisfied: scipy in /opt/conda/lib/python3.10/site-packages (from researchpy) (1.11.4)\r\n",
      "Requirement already satisfied: numpy in /opt/conda/lib/python3.10/site-packages (from researchpy) (1.26.4)\r\n",
      "Requirement already satisfied: pandas in /opt/conda/lib/python3.10/site-packages (from researchpy) (2.2.2)\r\n",
      "Requirement already satisfied: statsmodels in /opt/conda/lib/python3.10/site-packages (from researchpy) (0.14.1)\r\n",
      "Requirement already satisfied: patsy in /opt/conda/lib/python3.10/site-packages (from researchpy) (0.5.6)\r\n",
      "Requirement already satisfied: python-dateutil>=2.8.2 in /opt/conda/lib/python3.10/site-packages (from pandas->researchpy) (2.9.0.post0)\r\n",
      "Requirement already satisfied: pytz>=2020.1 in /opt/conda/lib/python3.10/site-packages (from pandas->researchpy) (2023.3.post1)\r\n",
      "Requirement already satisfied: tzdata>=2022.7 in /opt/conda/lib/python3.10/site-packages (from pandas->researchpy) (2023.4)\r\n",
      "Requirement already satisfied: six in /opt/conda/lib/python3.10/site-packages (from patsy->researchpy) (1.16.0)\r\n",
      "Requirement already satisfied: packaging>=21.3 in /opt/conda/lib/python3.10/site-packages (from statsmodels->researchpy) (21.3)\r\n",
      "Requirement already satisfied: pyparsing!=3.0.5,>=2.0.2 in /opt/conda/lib/python3.10/site-packages (from packaging>=21.3->statsmodels->researchpy) (3.1.1)\r\n",
      "Downloading researchpy-0.3.6-py3-none-any.whl (34 kB)\r\n",
      "Installing collected packages: researchpy\r\n",
      "Successfully installed researchpy-0.3.6\r\n"
     ]
    }
   ],
   "source": [
    "!pip install researchpy \n",
    "import researchpy as rp # to find categorical values description and confidence interval"
   ]
  },
  {
   "cell_type": "code",
   "execution_count": 5,
   "id": "4c607e76",
   "metadata": {
    "execution": {
     "iopub.execute_input": "2024-08-07T19:24:53.511865Z",
     "iopub.status.busy": "2024-08-07T19:24:53.511375Z",
     "iopub.status.idle": "2024-08-07T19:24:53.557078Z",
     "shell.execute_reply": "2024-08-07T19:24:53.555760Z"
    },
    "papermill": {
     "duration": 0.058108,
     "end_time": "2024-08-07T19:24:53.559877",
     "exception": false,
     "start_time": "2024-08-07T19:24:53.501769",
     "status": "completed"
    },
    "tags": []
   },
   "outputs": [
    {
     "data": {
      "text/html": [
       "<div>\n",
       "<style scoped>\n",
       "    .dataframe tbody tr th:only-of-type {\n",
       "        vertical-align: middle;\n",
       "    }\n",
       "\n",
       "    .dataframe tbody tr th {\n",
       "        vertical-align: top;\n",
       "    }\n",
       "\n",
       "    .dataframe thead th {\n",
       "        text-align: right;\n",
       "    }\n",
       "</style>\n",
       "<table border=\"1\" class=\"dataframe\">\n",
       "  <thead>\n",
       "    <tr style=\"text-align: right;\">\n",
       "      <th></th>\n",
       "      <th>count</th>\n",
       "      <th>mean</th>\n",
       "      <th>std</th>\n",
       "      <th>min</th>\n",
       "      <th>25%</th>\n",
       "      <th>50%</th>\n",
       "      <th>75%</th>\n",
       "      <th>max</th>\n",
       "    </tr>\n",
       "  </thead>\n",
       "  <tbody>\n",
       "    <tr>\n",
       "      <th>PassengerId</th>\n",
       "      <td>891.0</td>\n",
       "      <td>446.000000</td>\n",
       "      <td>257.353842</td>\n",
       "      <td>1.00</td>\n",
       "      <td>223.5000</td>\n",
       "      <td>446.0000</td>\n",
       "      <td>668.5</td>\n",
       "      <td>891.0000</td>\n",
       "    </tr>\n",
       "    <tr>\n",
       "      <th>Survived</th>\n",
       "      <td>891.0</td>\n",
       "      <td>0.383838</td>\n",
       "      <td>0.486592</td>\n",
       "      <td>0.00</td>\n",
       "      <td>0.0000</td>\n",
       "      <td>0.0000</td>\n",
       "      <td>1.0</td>\n",
       "      <td>1.0000</td>\n",
       "    </tr>\n",
       "    <tr>\n",
       "      <th>Pclass</th>\n",
       "      <td>891.0</td>\n",
       "      <td>2.308642</td>\n",
       "      <td>0.836071</td>\n",
       "      <td>1.00</td>\n",
       "      <td>2.0000</td>\n",
       "      <td>3.0000</td>\n",
       "      <td>3.0</td>\n",
       "      <td>3.0000</td>\n",
       "    </tr>\n",
       "    <tr>\n",
       "      <th>Age</th>\n",
       "      <td>714.0</td>\n",
       "      <td>29.699118</td>\n",
       "      <td>14.526497</td>\n",
       "      <td>0.42</td>\n",
       "      <td>20.1250</td>\n",
       "      <td>28.0000</td>\n",
       "      <td>38.0</td>\n",
       "      <td>80.0000</td>\n",
       "    </tr>\n",
       "    <tr>\n",
       "      <th>SibSp</th>\n",
       "      <td>891.0</td>\n",
       "      <td>0.523008</td>\n",
       "      <td>1.102743</td>\n",
       "      <td>0.00</td>\n",
       "      <td>0.0000</td>\n",
       "      <td>0.0000</td>\n",
       "      <td>1.0</td>\n",
       "      <td>8.0000</td>\n",
       "    </tr>\n",
       "    <tr>\n",
       "      <th>Parch</th>\n",
       "      <td>891.0</td>\n",
       "      <td>0.381594</td>\n",
       "      <td>0.806057</td>\n",
       "      <td>0.00</td>\n",
       "      <td>0.0000</td>\n",
       "      <td>0.0000</td>\n",
       "      <td>0.0</td>\n",
       "      <td>6.0000</td>\n",
       "    </tr>\n",
       "    <tr>\n",
       "      <th>Fare</th>\n",
       "      <td>891.0</td>\n",
       "      <td>32.204208</td>\n",
       "      <td>49.693429</td>\n",
       "      <td>0.00</td>\n",
       "      <td>7.9104</td>\n",
       "      <td>14.4542</td>\n",
       "      <td>31.0</td>\n",
       "      <td>512.3292</td>\n",
       "    </tr>\n",
       "  </tbody>\n",
       "</table>\n",
       "</div>"
      ],
      "text/plain": [
       "             count        mean         std   min       25%       50%    75%       max\n",
       "PassengerId  891.0  446.000000  257.353842  1.00  223.5000  446.0000  668.5  891.0000\n",
       "Survived     891.0    0.383838    0.486592  0.00    0.0000    0.0000    1.0    1.0000\n",
       "Pclass       891.0    2.308642    0.836071  1.00    2.0000    3.0000    3.0    3.0000\n",
       "Age          714.0   29.699118   14.526497  0.42   20.1250   28.0000   38.0   80.0000\n",
       "SibSp        891.0    0.523008    1.102743  0.00    0.0000    0.0000    1.0    8.0000\n",
       "Parch        891.0    0.381594    0.806057  0.00    0.0000    0.0000    0.0    6.0000\n",
       "Fare         891.0   32.204208   49.693429  0.00    7.9104   14.4542   31.0  512.3292"
      ]
     },
     "execution_count": 5,
     "metadata": {},
     "output_type": "execute_result"
    }
   ],
   "source": [
    "train_data.describe().T # description with pandas"
   ]
  },
  {
   "cell_type": "markdown",
   "id": "8233533d",
   "metadata": {
    "papermill": {
     "duration": 0.008066,
     "end_time": "2024-08-07T19:24:53.576190",
     "exception": false,
     "start_time": "2024-08-07T19:24:53.568124",
     "status": "completed"
    },
    "tags": []
   },
   "source": [
    "There are (891-714) 177 null value on Age column"
   ]
  },
  {
   "cell_type": "code",
   "execution_count": 6,
   "id": "b4fd193d",
   "metadata": {
    "execution": {
     "iopub.execute_input": "2024-08-07T19:24:53.594405Z",
     "iopub.status.busy": "2024-08-07T19:24:53.594025Z",
     "iopub.status.idle": "2024-08-07T19:24:53.658157Z",
     "shell.execute_reply": "2024-08-07T19:24:53.656710Z"
    },
    "papermill": {
     "duration": 0.077672,
     "end_time": "2024-08-07T19:24:53.662105",
     "exception": false,
     "start_time": "2024-08-07T19:24:53.584433",
     "status": "completed"
    },
    "tags": []
   },
   "outputs": [
    {
     "name": "stdout",
     "output_type": "stream",
     "text": [
      "\n",
      "\n"
     ]
    },
    {
     "name": "stderr",
     "output_type": "stream",
     "text": [
      "/opt/conda/lib/python3.10/site-packages/researchpy/summary.py:102: FutureWarning: Setting an item of incompatible dtype is deprecated and will raise an error in a future version of pandas. Value 'Survived' has dtype incompatible with float64, please explicitly cast to a compatible dtype first.\n",
      "  table_a.iloc[0,0] = ix\n",
      "/opt/conda/lib/python3.10/site-packages/researchpy/summary.py:102: FutureWarning: Setting an item of incompatible dtype is deprecated and will raise an error in a future version of pandas. Value 'Pclass' has dtype incompatible with float64, please explicitly cast to a compatible dtype first.\n",
      "  table_a.iloc[0,0] = ix\n",
      "/opt/conda/lib/python3.10/site-packages/researchpy/summary.py:102: FutureWarning: Setting an item of incompatible dtype is deprecated and will raise an error in a future version of pandas. Value 'Age' has dtype incompatible with float64, please explicitly cast to a compatible dtype first.\n",
      "  table_a.iloc[0,0] = ix\n",
      "/opt/conda/lib/python3.10/site-packages/researchpy/summary.py:102: FutureWarning: Setting an item of incompatible dtype is deprecated and will raise an error in a future version of pandas. Value 'SibSp' has dtype incompatible with float64, please explicitly cast to a compatible dtype first.\n",
      "  table_a.iloc[0,0] = ix\n",
      "/opt/conda/lib/python3.10/site-packages/researchpy/summary.py:102: FutureWarning: Setting an item of incompatible dtype is deprecated and will raise an error in a future version of pandas. Value 'Parch' has dtype incompatible with float64, please explicitly cast to a compatible dtype first.\n",
      "  table_a.iloc[0,0] = ix\n",
      "/opt/conda/lib/python3.10/site-packages/researchpy/summary.py:102: FutureWarning: Setting an item of incompatible dtype is deprecated and will raise an error in a future version of pandas. Value 'Fare' has dtype incompatible with float64, please explicitly cast to a compatible dtype first.\n",
      "  table_a.iloc[0,0] = ix\n"
     ]
    },
    {
     "data": {
      "text/html": [
       "<div>\n",
       "<style scoped>\n",
       "    .dataframe tbody tr th:only-of-type {\n",
       "        vertical-align: middle;\n",
       "    }\n",
       "\n",
       "    .dataframe tbody tr th {\n",
       "        vertical-align: top;\n",
       "    }\n",
       "\n",
       "    .dataframe thead th {\n",
       "        text-align: right;\n",
       "    }\n",
       "</style>\n",
       "<table border=\"1\" class=\"dataframe\">\n",
       "  <thead>\n",
       "    <tr style=\"text-align: right;\">\n",
       "      <th></th>\n",
       "      <th>Variable</th>\n",
       "      <th>N</th>\n",
       "      <th>Mean</th>\n",
       "      <th>SD</th>\n",
       "      <th>SE</th>\n",
       "      <th>95% Conf.</th>\n",
       "      <th>Interval</th>\n",
       "    </tr>\n",
       "  </thead>\n",
       "  <tbody>\n",
       "    <tr>\n",
       "      <th>0</th>\n",
       "      <td>Survived</td>\n",
       "      <td>891.0</td>\n",
       "      <td>0.3838</td>\n",
       "      <td>0.4866</td>\n",
       "      <td>0.0163</td>\n",
       "      <td>0.3518</td>\n",
       "      <td>0.4158</td>\n",
       "    </tr>\n",
       "    <tr>\n",
       "      <th>1</th>\n",
       "      <td>Pclass</td>\n",
       "      <td>891.0</td>\n",
       "      <td>2.3086</td>\n",
       "      <td>0.8361</td>\n",
       "      <td>0.0280</td>\n",
       "      <td>2.2537</td>\n",
       "      <td>2.3636</td>\n",
       "    </tr>\n",
       "    <tr>\n",
       "      <th>2</th>\n",
       "      <td>Age</td>\n",
       "      <td>714.0</td>\n",
       "      <td>29.6991</td>\n",
       "      <td>14.5265</td>\n",
       "      <td>0.5436</td>\n",
       "      <td>28.6318</td>\n",
       "      <td>30.7664</td>\n",
       "    </tr>\n",
       "    <tr>\n",
       "      <th>3</th>\n",
       "      <td>SibSp</td>\n",
       "      <td>891.0</td>\n",
       "      <td>0.5230</td>\n",
       "      <td>1.1027</td>\n",
       "      <td>0.0369</td>\n",
       "      <td>0.4505</td>\n",
       "      <td>0.5955</td>\n",
       "    </tr>\n",
       "    <tr>\n",
       "      <th>4</th>\n",
       "      <td>Parch</td>\n",
       "      <td>891.0</td>\n",
       "      <td>0.3816</td>\n",
       "      <td>0.8061</td>\n",
       "      <td>0.0270</td>\n",
       "      <td>0.3286</td>\n",
       "      <td>0.4346</td>\n",
       "    </tr>\n",
       "    <tr>\n",
       "      <th>5</th>\n",
       "      <td>Fare</td>\n",
       "      <td>891.0</td>\n",
       "      <td>32.2042</td>\n",
       "      <td>49.6934</td>\n",
       "      <td>1.6648</td>\n",
       "      <td>28.9368</td>\n",
       "      <td>35.4716</td>\n",
       "    </tr>\n",
       "  </tbody>\n",
       "</table>\n",
       "</div>"
      ],
      "text/plain": [
       "   Variable      N     Mean       SD      SE  95% Conf.  Interval\n",
       "0  Survived  891.0   0.3838   0.4866  0.0163     0.3518    0.4158\n",
       "1    Pclass  891.0   2.3086   0.8361  0.0280     2.2537    2.3636\n",
       "2       Age  714.0  29.6991  14.5265  0.5436    28.6318   30.7664\n",
       "3     SibSp  891.0   0.5230   1.1027  0.0369     0.4505    0.5955\n",
       "4     Parch  891.0   0.3816   0.8061  0.0270     0.3286    0.4346\n",
       "5      Fare  891.0  32.2042  49.6934  1.6648    28.9368   35.4716"
      ]
     },
     "execution_count": 6,
     "metadata": {},
     "output_type": "execute_result"
    }
   ],
   "source": [
    "rp.summary_cont(train_data[[ \"Survived\", \"Pclass\", \"Age\", \"SibSp\", \"Parch\", \"Fare\"]])"
   ]
  },
  {
   "cell_type": "code",
   "execution_count": 7,
   "id": "074d7336",
   "metadata": {
    "execution": {
     "iopub.execute_input": "2024-08-07T19:24:53.681595Z",
     "iopub.status.busy": "2024-08-07T19:24:53.680582Z",
     "iopub.status.idle": "2024-08-07T19:24:53.709660Z",
     "shell.execute_reply": "2024-08-07T19:24:53.708551Z"
    },
    "papermill": {
     "duration": 0.041607,
     "end_time": "2024-08-07T19:24:53.712365",
     "exception": false,
     "start_time": "2024-08-07T19:24:53.670758",
     "status": "completed"
    },
    "tags": []
   },
   "outputs": [
    {
     "data": {
      "text/html": [
       "<div>\n",
       "<style scoped>\n",
       "    .dataframe tbody tr th:only-of-type {\n",
       "        vertical-align: middle;\n",
       "    }\n",
       "\n",
       "    .dataframe tbody tr th {\n",
       "        vertical-align: top;\n",
       "    }\n",
       "\n",
       "    .dataframe thead th {\n",
       "        text-align: right;\n",
       "    }\n",
       "</style>\n",
       "<table border=\"1\" class=\"dataframe\">\n",
       "  <thead>\n",
       "    <tr style=\"text-align: right;\">\n",
       "      <th></th>\n",
       "      <th>Variable</th>\n",
       "      <th>Outcome</th>\n",
       "      <th>Count</th>\n",
       "      <th>Percent</th>\n",
       "    </tr>\n",
       "  </thead>\n",
       "  <tbody>\n",
       "    <tr>\n",
       "      <th>0</th>\n",
       "      <td>Sex</td>\n",
       "      <td>male</td>\n",
       "      <td>577</td>\n",
       "      <td>64.76</td>\n",
       "    </tr>\n",
       "    <tr>\n",
       "      <th>1</th>\n",
       "      <td></td>\n",
       "      <td>female</td>\n",
       "      <td>314</td>\n",
       "      <td>35.24</td>\n",
       "    </tr>\n",
       "    <tr>\n",
       "      <th>2</th>\n",
       "      <td>Survived</td>\n",
       "      <td>0</td>\n",
       "      <td>549</td>\n",
       "      <td>61.62</td>\n",
       "    </tr>\n",
       "    <tr>\n",
       "      <th>3</th>\n",
       "      <td></td>\n",
       "      <td>1</td>\n",
       "      <td>342</td>\n",
       "      <td>38.38</td>\n",
       "    </tr>\n",
       "  </tbody>\n",
       "</table>\n",
       "</div>"
      ],
      "text/plain": [
       "   Variable Outcome  Count  Percent\n",
       "0       Sex    male    577    64.76\n",
       "1            female    314    35.24\n",
       "2  Survived       0    549    61.62\n",
       "3                 1    342    38.38"
      ]
     },
     "execution_count": 7,
     "metadata": {},
     "output_type": "execute_result"
    }
   ],
   "source": [
    "rp.summary_cat(train_data[[\"Sex\", \"Survived\"]])"
   ]
  },
  {
   "cell_type": "code",
   "execution_count": 8,
   "id": "f178bb07",
   "metadata": {
    "execution": {
     "iopub.execute_input": "2024-08-07T19:24:53.732195Z",
     "iopub.status.busy": "2024-08-07T19:24:53.731801Z",
     "iopub.status.idle": "2024-08-07T19:24:53.763166Z",
     "shell.execute_reply": "2024-08-07T19:24:53.761635Z"
    },
    "papermill": {
     "duration": 0.044696,
     "end_time": "2024-08-07T19:24:53.766110",
     "exception": false,
     "start_time": "2024-08-07T19:24:53.721414",
     "status": "completed"
    },
    "tags": []
   },
   "outputs": [
    {
     "name": "stdout",
     "output_type": "stream",
     "text": [
      "            mean      sum    count\n",
      "        Survived Survived Survived\n",
      "Sex                               \n",
      "female  0.742038      233      314\n",
      "male    0.188908      109      577\n"
     ]
    }
   ],
   "source": [
    "pivot_table=train_data.pivot_table(values=\"Survived\",\n",
    "                                  index=\"Sex\",\n",
    "                                  aggfunc=['mean', 'sum', 'count'])\n",
    "print(pivot_table)"
   ]
  },
  {
   "cell_type": "code",
   "execution_count": 9,
   "id": "638b9264",
   "metadata": {
    "execution": {
     "iopub.execute_input": "2024-08-07T19:24:53.786723Z",
     "iopub.status.busy": "2024-08-07T19:24:53.786281Z",
     "iopub.status.idle": "2024-08-07T19:24:54.015728Z",
     "shell.execute_reply": "2024-08-07T19:24:54.014390Z"
    },
    "papermill": {
     "duration": 0.243175,
     "end_time": "2024-08-07T19:24:54.018903",
     "exception": false,
     "start_time": "2024-08-07T19:24:53.775728",
     "status": "completed"
    },
    "tags": []
   },
   "outputs": [
    {
     "name": "stderr",
     "output_type": "stream",
     "text": [
      "/tmp/ipykernel_18/2112648148.py:3: FutureWarning: A value is trying to be set on a copy of a DataFrame or Series through chained assignment using an inplace method.\n",
      "The behavior will change in pandas 3.0. This inplace method will never work because the intermediate object on which we are setting values always behaves as a copy.\n",
      "\n",
      "For example, when doing 'df[col].method(value, inplace=True)', try using 'df.method({col: value}, inplace=True)' or df[col] = df[col].method(value) instead, to perform the operation inplace on the original object.\n",
      "\n",
      "\n",
      "  train_data[\"Age\"].fillna(train_data['Age'].median(),\n"
     ]
    },
    {
     "data": {
      "text/html": [
       "<div>\n",
       "<style scoped>\n",
       "    .dataframe tbody tr th:only-of-type {\n",
       "        vertical-align: middle;\n",
       "    }\n",
       "\n",
       "    .dataframe tbody tr th {\n",
       "        vertical-align: top;\n",
       "    }\n",
       "\n",
       "    .dataframe thead th {\n",
       "        text-align: right;\n",
       "    }\n",
       "</style>\n",
       "<table border=\"1\" class=\"dataframe\">\n",
       "  <thead>\n",
       "    <tr style=\"text-align: right;\">\n",
       "      <th></th>\n",
       "      <th>PassengerId</th>\n",
       "      <th>Survived</th>\n",
       "      <th>Pclass</th>\n",
       "      <th>Name</th>\n",
       "      <th>Sex</th>\n",
       "      <th>Age</th>\n",
       "      <th>SibSp</th>\n",
       "      <th>Parch</th>\n",
       "      <th>Ticket</th>\n",
       "      <th>Fare</th>\n",
       "      <th>Cabin</th>\n",
       "      <th>Embarked</th>\n",
       "    </tr>\n",
       "  </thead>\n",
       "  <tbody>\n",
       "    <tr>\n",
       "      <th>0</th>\n",
       "      <td>1</td>\n",
       "      <td>0</td>\n",
       "      <td>3</td>\n",
       "      <td>Braund, Mr. Owen Harris</td>\n",
       "      <td>male</td>\n",
       "      <td>22.0</td>\n",
       "      <td>1</td>\n",
       "      <td>0</td>\n",
       "      <td>A/5 21171</td>\n",
       "      <td>7.2500</td>\n",
       "      <td>NaN</td>\n",
       "      <td>S</td>\n",
       "    </tr>\n",
       "    <tr>\n",
       "      <th>1</th>\n",
       "      <td>2</td>\n",
       "      <td>1</td>\n",
       "      <td>1</td>\n",
       "      <td>Cumings, Mrs. John Bradley (Florence Briggs Th...</td>\n",
       "      <td>female</td>\n",
       "      <td>38.0</td>\n",
       "      <td>1</td>\n",
       "      <td>0</td>\n",
       "      <td>PC 17599</td>\n",
       "      <td>71.2833</td>\n",
       "      <td>C85</td>\n",
       "      <td>C</td>\n",
       "    </tr>\n",
       "    <tr>\n",
       "      <th>2</th>\n",
       "      <td>3</td>\n",
       "      <td>1</td>\n",
       "      <td>3</td>\n",
       "      <td>Heikkinen, Miss. Laina</td>\n",
       "      <td>female</td>\n",
       "      <td>26.0</td>\n",
       "      <td>0</td>\n",
       "      <td>0</td>\n",
       "      <td>STON/O2. 3101282</td>\n",
       "      <td>7.9250</td>\n",
       "      <td>NaN</td>\n",
       "      <td>S</td>\n",
       "    </tr>\n",
       "    <tr>\n",
       "      <th>3</th>\n",
       "      <td>4</td>\n",
       "      <td>1</td>\n",
       "      <td>1</td>\n",
       "      <td>Futrelle, Mrs. Jacques Heath (Lily May Peel)</td>\n",
       "      <td>female</td>\n",
       "      <td>35.0</td>\n",
       "      <td>1</td>\n",
       "      <td>0</td>\n",
       "      <td>113803</td>\n",
       "      <td>53.1000</td>\n",
       "      <td>C123</td>\n",
       "      <td>S</td>\n",
       "    </tr>\n",
       "    <tr>\n",
       "      <th>4</th>\n",
       "      <td>5</td>\n",
       "      <td>0</td>\n",
       "      <td>3</td>\n",
       "      <td>Allen, Mr. William Henry</td>\n",
       "      <td>male</td>\n",
       "      <td>35.0</td>\n",
       "      <td>0</td>\n",
       "      <td>0</td>\n",
       "      <td>373450</td>\n",
       "      <td>8.0500</td>\n",
       "      <td>NaN</td>\n",
       "      <td>S</td>\n",
       "    </tr>\n",
       "    <tr>\n",
       "      <th>...</th>\n",
       "      <td>...</td>\n",
       "      <td>...</td>\n",
       "      <td>...</td>\n",
       "      <td>...</td>\n",
       "      <td>...</td>\n",
       "      <td>...</td>\n",
       "      <td>...</td>\n",
       "      <td>...</td>\n",
       "      <td>...</td>\n",
       "      <td>...</td>\n",
       "      <td>...</td>\n",
       "      <td>...</td>\n",
       "    </tr>\n",
       "    <tr>\n",
       "      <th>886</th>\n",
       "      <td>887</td>\n",
       "      <td>0</td>\n",
       "      <td>2</td>\n",
       "      <td>Montvila, Rev. Juozas</td>\n",
       "      <td>male</td>\n",
       "      <td>27.0</td>\n",
       "      <td>0</td>\n",
       "      <td>0</td>\n",
       "      <td>211536</td>\n",
       "      <td>13.0000</td>\n",
       "      <td>NaN</td>\n",
       "      <td>S</td>\n",
       "    </tr>\n",
       "    <tr>\n",
       "      <th>887</th>\n",
       "      <td>888</td>\n",
       "      <td>1</td>\n",
       "      <td>1</td>\n",
       "      <td>Graham, Miss. Margaret Edith</td>\n",
       "      <td>female</td>\n",
       "      <td>19.0</td>\n",
       "      <td>0</td>\n",
       "      <td>0</td>\n",
       "      <td>112053</td>\n",
       "      <td>30.0000</td>\n",
       "      <td>B42</td>\n",
       "      <td>S</td>\n",
       "    </tr>\n",
       "    <tr>\n",
       "      <th>888</th>\n",
       "      <td>889</td>\n",
       "      <td>0</td>\n",
       "      <td>3</td>\n",
       "      <td>Johnston, Miss. Catherine Helen \"Carrie\"</td>\n",
       "      <td>female</td>\n",
       "      <td>28.0</td>\n",
       "      <td>1</td>\n",
       "      <td>2</td>\n",
       "      <td>W./C. 6607</td>\n",
       "      <td>23.4500</td>\n",
       "      <td>NaN</td>\n",
       "      <td>S</td>\n",
       "    </tr>\n",
       "    <tr>\n",
       "      <th>889</th>\n",
       "      <td>890</td>\n",
       "      <td>1</td>\n",
       "      <td>1</td>\n",
       "      <td>Behr, Mr. Karl Howell</td>\n",
       "      <td>male</td>\n",
       "      <td>26.0</td>\n",
       "      <td>0</td>\n",
       "      <td>0</td>\n",
       "      <td>111369</td>\n",
       "      <td>30.0000</td>\n",
       "      <td>C148</td>\n",
       "      <td>C</td>\n",
       "    </tr>\n",
       "    <tr>\n",
       "      <th>890</th>\n",
       "      <td>891</td>\n",
       "      <td>0</td>\n",
       "      <td>3</td>\n",
       "      <td>Dooley, Mr. Patrick</td>\n",
       "      <td>male</td>\n",
       "      <td>32.0</td>\n",
       "      <td>0</td>\n",
       "      <td>0</td>\n",
       "      <td>370376</td>\n",
       "      <td>7.7500</td>\n",
       "      <td>NaN</td>\n",
       "      <td>Q</td>\n",
       "    </tr>\n",
       "  </tbody>\n",
       "</table>\n",
       "<p>891 rows × 12 columns</p>\n",
       "</div>"
      ],
      "text/plain": [
       "     PassengerId  Survived  Pclass                                               Name     Sex   Age  SibSp  Parch            Ticket     Fare Cabin Embarked\n",
       "0              1         0       3                            Braund, Mr. Owen Harris    male  22.0      1      0         A/5 21171   7.2500   NaN        S\n",
       "1              2         1       1  Cumings, Mrs. John Bradley (Florence Briggs Th...  female  38.0      1      0          PC 17599  71.2833   C85        C\n",
       "2              3         1       3                             Heikkinen, Miss. Laina  female  26.0      0      0  STON/O2. 3101282   7.9250   NaN        S\n",
       "3              4         1       1       Futrelle, Mrs. Jacques Heath (Lily May Peel)  female  35.0      1      0            113803  53.1000  C123        S\n",
       "4              5         0       3                           Allen, Mr. William Henry    male  35.0      0      0            373450   8.0500   NaN        S\n",
       "..           ...       ...     ...                                                ...     ...   ...    ...    ...               ...      ...   ...      ...\n",
       "886          887         0       2                              Montvila, Rev. Juozas    male  27.0      0      0            211536  13.0000   NaN        S\n",
       "887          888         1       1                       Graham, Miss. Margaret Edith  female  19.0      0      0            112053  30.0000   B42        S\n",
       "888          889         0       3           Johnston, Miss. Catherine Helen \"Carrie\"  female  28.0      1      2        W./C. 6607  23.4500   NaN        S\n",
       "889          890         1       1                              Behr, Mr. Karl Howell    male  26.0      0      0            111369  30.0000  C148        C\n",
       "890          891         0       3                                Dooley, Mr. Patrick    male  32.0      0      0            370376   7.7500   NaN        Q\n",
       "\n",
       "[891 rows x 12 columns]"
      ]
     },
     "execution_count": 9,
     "metadata": {},
     "output_type": "execute_result"
    }
   ],
   "source": [
    "import matplotlib.pyplot as plt \n",
    "import seaborn as sns \n",
    "train_data[\"Age\"].fillna(train_data['Age'].median(),\n",
    "                        inplace=True)\n",
    "\n",
    "train_data.fillna({})"
   ]
  },
  {
   "cell_type": "code",
   "execution_count": 10,
   "id": "24d7c71c",
   "metadata": {
    "execution": {
     "iopub.execute_input": "2024-08-07T19:24:54.039621Z",
     "iopub.status.busy": "2024-08-07T19:24:54.039214Z",
     "iopub.status.idle": "2024-08-07T19:24:54.044772Z",
     "shell.execute_reply": "2024-08-07T19:24:54.043571Z"
    },
    "papermill": {
     "duration": 0.018828,
     "end_time": "2024-08-07T19:24:54.047257",
     "exception": false,
     "start_time": "2024-08-07T19:24:54.028429",
     "status": "completed"
    },
    "tags": []
   },
   "outputs": [],
   "source": [
    "y=train_data.Survived "
   ]
  },
  {
   "cell_type": "code",
   "execution_count": 11,
   "id": "4c91c654",
   "metadata": {
    "execution": {
     "iopub.execute_input": "2024-08-07T19:24:54.068219Z",
     "iopub.status.busy": "2024-08-07T19:24:54.067615Z",
     "iopub.status.idle": "2024-08-07T19:24:54.073959Z",
     "shell.execute_reply": "2024-08-07T19:24:54.072586Z"
    },
    "papermill": {
     "duration": 0.020206,
     "end_time": "2024-08-07T19:24:54.077001",
     "exception": false,
     "start_time": "2024-08-07T19:24:54.056795",
     "status": "completed"
    },
    "tags": []
   },
   "outputs": [],
   "source": [
    "x_feature=[ 'Pclass',    'SibSp', 'Parch',  'Fare']"
   ]
  },
  {
   "cell_type": "code",
   "execution_count": 12,
   "id": "3a5c872e",
   "metadata": {
    "execution": {
     "iopub.execute_input": "2024-08-07T19:24:54.098564Z",
     "iopub.status.busy": "2024-08-07T19:24:54.097814Z",
     "iopub.status.idle": "2024-08-07T19:24:54.105177Z",
     "shell.execute_reply": "2024-08-07T19:24:54.103883Z"
    },
    "papermill": {
     "duration": 0.021133,
     "end_time": "2024-08-07T19:24:54.107943",
     "exception": false,
     "start_time": "2024-08-07T19:24:54.086810",
     "status": "completed"
    },
    "tags": []
   },
   "outputs": [],
   "source": [
    "X=train_data[x_feature]\n",
    "X_test=test_data[x_feature]"
   ]
  },
  {
   "cell_type": "code",
   "execution_count": 13,
   "id": "b8d1fa55",
   "metadata": {
    "execution": {
     "iopub.execute_input": "2024-08-07T19:24:54.129592Z",
     "iopub.status.busy": "2024-08-07T19:24:54.128579Z",
     "iopub.status.idle": "2024-08-07T19:24:54.139940Z",
     "shell.execute_reply": "2024-08-07T19:24:54.138713Z"
    },
    "papermill": {
     "duration": 0.025462,
     "end_time": "2024-08-07T19:24:54.142952",
     "exception": false,
     "start_time": "2024-08-07T19:24:54.117490",
     "status": "completed"
    },
    "tags": []
   },
   "outputs": [],
   "source": [
    "X=X.fillna(X.median())\n",
    "X_test=X_test.fillna(X_test.median())"
   ]
  },
  {
   "cell_type": "code",
   "execution_count": 14,
   "id": "421ade16",
   "metadata": {
    "execution": {
     "iopub.execute_input": "2024-08-07T19:24:54.164869Z",
     "iopub.status.busy": "2024-08-07T19:24:54.164419Z",
     "iopub.status.idle": "2024-08-07T19:24:54.769538Z",
     "shell.execute_reply": "2024-08-07T19:24:54.767718Z"
    },
    "papermill": {
     "duration": 0.620029,
     "end_time": "2024-08-07T19:24:54.772712",
     "exception": false,
     "start_time": "2024-08-07T19:24:54.152683",
     "status": "completed"
    },
    "tags": []
   },
   "outputs": [
    {
     "data": {
      "text/html": [
       "<style>#sk-container-id-1 {color: black;background-color: white;}#sk-container-id-1 pre{padding: 0;}#sk-container-id-1 div.sk-toggleable {background-color: white;}#sk-container-id-1 label.sk-toggleable__label {cursor: pointer;display: block;width: 100%;margin-bottom: 0;padding: 0.3em;box-sizing: border-box;text-align: center;}#sk-container-id-1 label.sk-toggleable__label-arrow:before {content: \"▸\";float: left;margin-right: 0.25em;color: #696969;}#sk-container-id-1 label.sk-toggleable__label-arrow:hover:before {color: black;}#sk-container-id-1 div.sk-estimator:hover label.sk-toggleable__label-arrow:before {color: black;}#sk-container-id-1 div.sk-toggleable__content {max-height: 0;max-width: 0;overflow: hidden;text-align: left;background-color: #f0f8ff;}#sk-container-id-1 div.sk-toggleable__content pre {margin: 0.2em;color: black;border-radius: 0.25em;background-color: #f0f8ff;}#sk-container-id-1 input.sk-toggleable__control:checked~div.sk-toggleable__content {max-height: 200px;max-width: 100%;overflow: auto;}#sk-container-id-1 input.sk-toggleable__control:checked~label.sk-toggleable__label-arrow:before {content: \"▾\";}#sk-container-id-1 div.sk-estimator input.sk-toggleable__control:checked~label.sk-toggleable__label {background-color: #d4ebff;}#sk-container-id-1 div.sk-label input.sk-toggleable__control:checked~label.sk-toggleable__label {background-color: #d4ebff;}#sk-container-id-1 input.sk-hidden--visually {border: 0;clip: rect(1px 1px 1px 1px);clip: rect(1px, 1px, 1px, 1px);height: 1px;margin: -1px;overflow: hidden;padding: 0;position: absolute;width: 1px;}#sk-container-id-1 div.sk-estimator {font-family: monospace;background-color: #f0f8ff;border: 1px dotted black;border-radius: 0.25em;box-sizing: border-box;margin-bottom: 0.5em;}#sk-container-id-1 div.sk-estimator:hover {background-color: #d4ebff;}#sk-container-id-1 div.sk-parallel-item::after {content: \"\";width: 100%;border-bottom: 1px solid gray;flex-grow: 1;}#sk-container-id-1 div.sk-label:hover label.sk-toggleable__label {background-color: #d4ebff;}#sk-container-id-1 div.sk-serial::before {content: \"\";position: absolute;border-left: 1px solid gray;box-sizing: border-box;top: 0;bottom: 0;left: 50%;z-index: 0;}#sk-container-id-1 div.sk-serial {display: flex;flex-direction: column;align-items: center;background-color: white;padding-right: 0.2em;padding-left: 0.2em;position: relative;}#sk-container-id-1 div.sk-item {position: relative;z-index: 1;}#sk-container-id-1 div.sk-parallel {display: flex;align-items: stretch;justify-content: center;background-color: white;position: relative;}#sk-container-id-1 div.sk-item::before, #sk-container-id-1 div.sk-parallel-item::before {content: \"\";position: absolute;border-left: 1px solid gray;box-sizing: border-box;top: 0;bottom: 0;left: 50%;z-index: -1;}#sk-container-id-1 div.sk-parallel-item {display: flex;flex-direction: column;z-index: 1;position: relative;background-color: white;}#sk-container-id-1 div.sk-parallel-item:first-child::after {align-self: flex-end;width: 50%;}#sk-container-id-1 div.sk-parallel-item:last-child::after {align-self: flex-start;width: 50%;}#sk-container-id-1 div.sk-parallel-item:only-child::after {width: 0;}#sk-container-id-1 div.sk-dashed-wrapped {border: 1px dashed gray;margin: 0 0.4em 0.5em 0.4em;box-sizing: border-box;padding-bottom: 0.4em;background-color: white;}#sk-container-id-1 div.sk-label label {font-family: monospace;font-weight: bold;display: inline-block;line-height: 1.2em;}#sk-container-id-1 div.sk-label-container {text-align: center;}#sk-container-id-1 div.sk-container {/* jupyter's `normalize.less` sets `[hidden] { display: none; }` but bootstrap.min.css set `[hidden] { display: none !important; }` so we also need the `!important` here to be able to override the default hidden behavior on the sphinx rendered scikit-learn.org. See: https://github.com/scikit-learn/scikit-learn/issues/21755 */display: inline-block !important;position: relative;}#sk-container-id-1 div.sk-text-repr-fallback {display: none;}</style><div id=\"sk-container-id-1\" class=\"sk-top-container\"><div class=\"sk-text-repr-fallback\"><pre>DecisionTreeRegressor(random_state=0)</pre><b>In a Jupyter environment, please rerun this cell to show the HTML representation or trust the notebook. <br />On GitHub, the HTML representation is unable to render, please try loading this page with nbviewer.org.</b></div><div class=\"sk-container\" hidden><div class=\"sk-item\"><div class=\"sk-estimator sk-toggleable\"><input class=\"sk-toggleable__control sk-hidden--visually\" id=\"sk-estimator-id-1\" type=\"checkbox\" checked><label for=\"sk-estimator-id-1\" class=\"sk-toggleable__label sk-toggleable__label-arrow\">DecisionTreeRegressor</label><div class=\"sk-toggleable__content\"><pre>DecisionTreeRegressor(random_state=0)</pre></div></div></div></div></div>"
      ],
      "text/plain": [
       "DecisionTreeRegressor(random_state=0)"
      ]
     },
     "execution_count": 14,
     "metadata": {},
     "output_type": "execute_result"
    }
   ],
   "source": [
    "from sklearn.tree import DecisionTreeRegressor\n",
    "model=DecisionTreeRegressor(random_state=0)\n",
    "model.fit(X,y)\n"
   ]
  },
  {
   "cell_type": "code",
   "execution_count": 15,
   "id": "34740785",
   "metadata": {
    "execution": {
     "iopub.execute_input": "2024-08-07T19:24:54.794601Z",
     "iopub.status.busy": "2024-08-07T19:24:54.794189Z",
     "iopub.status.idle": "2024-08-07T19:24:54.803281Z",
     "shell.execute_reply": "2024-08-07T19:24:54.801760Z"
    },
    "papermill": {
     "duration": 0.023902,
     "end_time": "2024-08-07T19:24:54.806796",
     "exception": false,
     "start_time": "2024-08-07T19:24:54.782894",
     "status": "completed"
    },
    "tags": []
   },
   "outputs": [],
   "source": [
    "predict_X=model.predict(X_test)"
   ]
  },
  {
   "cell_type": "code",
   "execution_count": 16,
   "id": "bcc36e24",
   "metadata": {
    "execution": {
     "iopub.execute_input": "2024-08-07T19:24:54.829391Z",
     "iopub.status.busy": "2024-08-07T19:24:54.828979Z",
     "iopub.status.idle": "2024-08-07T19:24:54.841528Z",
     "shell.execute_reply": "2024-08-07T19:24:54.840228Z"
    },
    "papermill": {
     "duration": 0.027171,
     "end_time": "2024-08-07T19:24:54.844185",
     "exception": false,
     "start_time": "2024-08-07T19:24:54.817014",
     "status": "completed"
    },
    "tags": []
   },
   "outputs": [
    {
     "data": {
      "text/plain": [
       "array([0.5       , 0.5       , 0.375     , 0.08333333, 1.        ,\n",
       "       0.        , 0.        , 1.        , 0.30769231, 0.        ,\n",
       "       0.02631579, 0.        , 0.5       , 0.57142857, 0.        ,\n",
       "       0.        , 0.66666667, 0.25      , 0.5       , 0.25      ,\n",
       "       1.        , 0.        , 0.        , 0.        , 1.        ,\n",
       "       0.        , 0.        , 0.25      , 0.8       , 0.        ,\n",
       "       0.57142857, 1.        , 0.5       , 0.        , 1.        ,\n",
       "       0.30769231, 0.11627907, 0.08333333, 0.22222222, 0.71428571,\n",
       "       1.        , 0.53333333, 0.2       , 0.36585366, 1.        ,\n",
       "       0.46153846, 0.5       , 0.375     , 1.        , 1.        ,\n",
       "       1.        , 0.        , 1.        , 0.66666667, 1.        ,\n",
       "       0.        , 0.02631579, 0.25      , 0.33333333, 0.66666667,\n",
       "       0.02631579, 0.25      , 0.375     , 0.        , 1.        ,\n",
       "       1.        , 1.        , 0.        , 0.        , 0.        ,\n",
       "       0.375     , 0.02631579, 0.46153846, 0.25      , 1.        ,\n",
       "       1.        , 0.11627907, 1.        , 0.36585366, 0.375     ,\n",
       "       0.66666667, 0.        , 0.        , 0.02631579, 0.375     ,\n",
       "       0.2       , 1.        , 0.11627907, 0.375     , 1.        ,\n",
       "       0.        , 0.14285714, 0.66666667, 0.11627907, 0.        ,\n",
       "       0.33333333, 0.        , 0.46153846, 0.2       , 0.11627907,\n",
       "       1.        , 0.57142857, 0.375     , 0.14285714, 1.        ,\n",
       "       0.        , 0.5       , 0.375     , 0.        , 0.36585366,\n",
       "       0.        , 0.14285714, 0.        , 0.        , 0.        ,\n",
       "       0.2       , 0.        , 1.        , 1.        , 0.57142857,\n",
       "       1.        , 0.        , 1.        , 0.08333333, 0.375     ,\n",
       "       0.        , 0.33333333, 1.        , 0.36585366, 0.11627907,\n",
       "       0.11627907, 0.        , 0.        , 0.        , 0.02631579,\n",
       "       0.2       , 0.25      , 0.36585366, 0.11627907, 0.        ,\n",
       "       0.        , 1.        , 1.        , 0.14285714, 0.53333333,\n",
       "       1.        , 0.        , 0.11627907, 0.53333333, 0.75      ,\n",
       "       1.        , 0.02631579, 0.2       , 1.        , 0.66666667,\n",
       "       0.25      , 0.        , 0.2       , 0.53333333, 0.        ,\n",
       "       0.5       , 0.66666667, 0.25      , 0.5       , 0.36585366,\n",
       "       1.        , 0.        , 0.        , 0.25      , 0.        ,\n",
       "       0.25      , 0.25      , 0.        , 0.30769231, 1.        ,\n",
       "       1.        , 0.75      , 1.        , 1.        , 1.        ,\n",
       "       0.36585366, 1.        , 0.6       , 0.375     , 0.5       ,\n",
       "       1.        , 1.        , 0.11627907, 0.        , 0.36585366,\n",
       "       0.57142857, 0.        , 0.        , 0.66666667, 1.        ,\n",
       "       0.2       , 1.        , 0.14285714, 0.375     , 1.        ,\n",
       "       0.        , 0.        , 1.        , 0.75      , 0.375     ,\n",
       "       0.        , 0.375     , 0.375     , 0.25      , 0.02631579,\n",
       "       0.        , 0.        , 0.        , 0.57142857, 0.        ,\n",
       "       0.        , 1.        , 1.        , 0.        , 0.11627907,\n",
       "       1.        , 0.11627907, 0.375     , 0.33333333, 0.25      ,\n",
       "       0.5       , 0.33333333, 0.375     , 0.        , 0.36585366,\n",
       "       0.        , 0.53333333, 0.        , 1.        , 1.        ,\n",
       "       0.2       , 1.        , 0.25      , 0.        , 0.        ,\n",
       "       0.25      , 1.        , 1.        , 0.        , 0.        ,\n",
       "       1.        , 1.        , 1.        , 0.57142857, 0.2       ,\n",
       "       0.66666667, 0.46153846, 0.66666667, 0.        , 0.22222222,\n",
       "       0.25      , 0.375     , 0.11627907, 0.36585366, 0.14285714,\n",
       "       1.        , 0.2       , 1.        , 1.        , 1.        ,\n",
       "       0.02631579, 0.        , 0.25      , 0.11627907, 0.08333333,\n",
       "       1.        , 0.375     , 0.66666667, 0.6       , 0.25      ,\n",
       "       0.57142857, 0.375     , 0.57142857, 0.        , 0.375     ,\n",
       "       0.08333333, 0.        , 0.375     , 0.66666667, 0.        ,\n",
       "       0.08333333, 0.08333333, 0.5       , 0.30769231, 0.11627907,\n",
       "       0.        , 0.        , 0.30769231, 1.        , 0.22222222,\n",
       "       0.02631579, 0.66666667, 0.        , 0.        , 0.2       ,\n",
       "       0.14285714, 0.        , 1.        , 0.08333333, 0.375     ,\n",
       "       0.        , 0.33333333, 1.        , 1.        , 0.        ,\n",
       "       0.08333333, 0.25      , 0.25      , 0.375     , 0.66666667,\n",
       "       0.5       , 1.        , 0.375     , 0.2       , 1.        ,\n",
       "       0.14285714, 0.30769231, 0.36585366, 0.53333333, 1.        ,\n",
       "       0.        , 1.        , 0.33333333, 0.57142857, 0.36585366,\n",
       "       1.        , 0.5       , 0.25      , 1.        , 0.02631579,\n",
       "       0.        , 0.36585366, 0.        , 0.66666667, 0.30769231,\n",
       "       0.375     , 0.25      , 0.71428571, 1.        , 0.        ,\n",
       "       0.25      , 0.36585366, 0.30769231, 0.25      , 1.        ,\n",
       "       1.        , 0.375     , 0.        , 1.        , 0.5       ,\n",
       "       0.        , 1.        , 1.        , 0.375     , 0.        ,\n",
       "       0.        , 0.        , 1.        , 0.08333333, 1.        ,\n",
       "       0.71428571, 0.        , 0.        , 1.        , 1.        ,\n",
       "       0.        , 1.        , 0.        , 0.36585366, 1.        ,\n",
       "       0.66666667, 0.        , 0.        , 0.        , 0.66666667,\n",
       "       0.375     , 1.        , 0.        , 0.33333333, 0.        ,\n",
       "       1.        , 0.14285714, 0.36585366, 0.375     , 0.        ,\n",
       "       1.        , 1.        , 1.        , 0.375     , 0.        ,\n",
       "       1.        , 0.08333333, 1.        , 0.14285714, 0.5       ,\n",
       "       1.        , 0.        , 1.        , 0.        , 0.25      ,\n",
       "       1.        , 0.        , 0.        , 0.        , 0.        ,\n",
       "       0.375     , 1.        , 0.14285714, 0.11627907, 1.        ,\n",
       "       0.08333333, 0.11627907, 1.        ])"
      ]
     },
     "execution_count": 16,
     "metadata": {},
     "output_type": "execute_result"
    }
   ],
   "source": [
    "predict_X"
   ]
  },
  {
   "cell_type": "code",
   "execution_count": 17,
   "id": "3c25aae9",
   "metadata": {
    "execution": {
     "iopub.execute_input": "2024-08-07T19:24:54.867087Z",
     "iopub.status.busy": "2024-08-07T19:24:54.866607Z",
     "iopub.status.idle": "2024-08-07T19:24:54.876101Z",
     "shell.execute_reply": "2024-08-07T19:24:54.874873Z"
    },
    "papermill": {
     "duration": 0.024416,
     "end_time": "2024-08-07T19:24:54.879018",
     "exception": false,
     "start_time": "2024-08-07T19:24:54.854602",
     "status": "completed"
    },
    "tags": []
   },
   "outputs": [
    {
     "data": {
      "text/plain": [
       "0      0\n",
       "1      1\n",
       "2      1\n",
       "3      1\n",
       "4      0\n",
       "      ..\n",
       "886    0\n",
       "887    1\n",
       "888    0\n",
       "889    1\n",
       "890    0\n",
       "Name: Survived, Length: 891, dtype: int64"
      ]
     },
     "execution_count": 17,
     "metadata": {},
     "output_type": "execute_result"
    }
   ],
   "source": [
    "y"
   ]
  }
 ],
 "metadata": {
  "kaggle": {
   "accelerator": "none",
   "dataSources": [
    {
     "databundleVersionId": 26502,
     "sourceId": 3136,
     "sourceType": "competition"
    }
   ],
   "dockerImageVersionId": 30746,
   "isGpuEnabled": false,
   "isInternetEnabled": true,
   "language": "python",
   "sourceType": "notebook"
  },
  "kernelspec": {
   "display_name": "Python 3",
   "language": "python",
   "name": "python3"
  },
  "language_info": {
   "codemirror_mode": {
    "name": "ipython",
    "version": 3
   },
   "file_extension": ".py",
   "mimetype": "text/x-python",
   "name": "python",
   "nbconvert_exporter": "python",
   "pygments_lexer": "ipython3",
   "version": "3.10.13"
  },
  "papermill": {
   "default_parameters": {},
   "duration": 25.221077,
   "end_time": "2024-08-07T19:24:55.613596",
   "environment_variables": {},
   "exception": null,
   "input_path": "__notebook__.ipynb",
   "output_path": "__notebook__.ipynb",
   "parameters": {},
   "start_time": "2024-08-07T19:24:30.392519",
   "version": "2.5.0"
  }
 },
 "nbformat": 4,
 "nbformat_minor": 5
}
