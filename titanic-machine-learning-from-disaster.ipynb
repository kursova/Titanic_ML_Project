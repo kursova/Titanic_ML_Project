{
 "cells": [
  {
   "cell_type": "code",
   "execution_count": 1,
   "id": "7bc503ba",
   "metadata": {
    "_cell_guid": "b1076dfc-b9ad-4769-8c92-a6c4dae69d19",
    "_uuid": "8f2839f25d086af736a60e9eeb907d3b93b6e0e5",
    "execution": {
     "iopub.execute_input": "2024-08-10T07:01:47.386006Z",
     "iopub.status.busy": "2024-08-10T07:01:47.385541Z",
     "iopub.status.idle": "2024-08-10T07:01:48.392888Z",
     "shell.execute_reply": "2024-08-10T07:01:48.391313Z"
    },
    "papermill": {
     "duration": 1.018913,
     "end_time": "2024-08-10T07:01:48.395800",
     "exception": false,
     "start_time": "2024-08-10T07:01:47.376887",
     "status": "completed"
    },
    "tags": []
   },
   "outputs": [
    {
     "name": "stdout",
     "output_type": "stream",
     "text": [
      "/kaggle/input/titanic/train.csv\n",
      "/kaggle/input/titanic/test.csv\n",
      "/kaggle/input/titanic/gender_submission.csv\n"
     ]
    }
   ],
   "source": [
    "# This Python 3 environment comes with many helpful analytics libraries installed\n",
    "# It is defined by the kaggle/python Docker image: https://github.com/kaggle/docker-python\n",
    "# For example, here's several helpful packages to load\n",
    "\n",
    "import numpy as np # linear algebra\n",
    "import pandas as pd # data processing, CSV file I/O (e.g. pd.read_csv)\n",
    "\n",
    "# Input data files are available in the read-only \"../input/\" directory\n",
    "# For example, running this (by clicking run or pressing Shift+Enter) will list all files under the input directory\n",
    "\n",
    "import os\n",
    "for dirname, _, filenames in os.walk('/kaggle/input'):\n",
    "    for filename in filenames:\n",
    "        print(os.path.join(dirname, filename))\n",
    "\n",
    "# You can write up to 20GB to the current directory (/kaggle/working/) that gets preserved as output when you create a version using \"Save & Run All\" \n",
    "# You can also write temporary files to /kaggle/temp/, but they won't be saved outside of the current session"
   ]
  },
  {
   "cell_type": "markdown",
   "id": "01d83b0e",
   "metadata": {
    "papermill": {
     "duration": 0.006013,
     "end_time": "2024-08-10T07:01:48.408573",
     "exception": false,
     "start_time": "2024-08-10T07:01:48.402560",
     "status": "completed"
    },
    "tags": []
   },
   "source": [
    "/kaggle/input/titanic/train.csv\n",
    "\n",
    "/kaggle/input/titanic/test.csv\n",
    "\n",
    "/kaggle/input/titanic/gender_submission.csv"
   ]
  },
  {
   "cell_type": "code",
   "execution_count": 2,
   "id": "aa321f14",
   "metadata": {
    "execution": {
     "iopub.execute_input": "2024-08-10T07:01:48.423454Z",
     "iopub.status.busy": "2024-08-10T07:01:48.422862Z",
     "iopub.status.idle": "2024-08-10T07:01:48.460058Z",
     "shell.execute_reply": "2024-08-10T07:01:48.458604Z"
    },
    "papermill": {
     "duration": 0.04816,
     "end_time": "2024-08-10T07:01:48.463022",
     "exception": false,
     "start_time": "2024-08-10T07:01:48.414862",
     "status": "completed"
    },
    "tags": []
   },
   "outputs": [],
   "source": [
    "train_data=pd.read_csv('/kaggle/input/titanic/train.csv')\n",
    "test_data=pd.read_csv('/kaggle/input/titanic/test.csv')"
   ]
  },
  {
   "cell_type": "code",
   "execution_count": 3,
   "id": "0cc18796",
   "metadata": {
    "execution": {
     "iopub.execute_input": "2024-08-10T07:01:48.478468Z",
     "iopub.status.busy": "2024-08-10T07:01:48.478028Z",
     "iopub.status.idle": "2024-08-10T07:01:48.506619Z",
     "shell.execute_reply": "2024-08-10T07:01:48.505231Z"
    },
    "papermill": {
     "duration": 0.03903,
     "end_time": "2024-08-10T07:01:48.509230",
     "exception": false,
     "start_time": "2024-08-10T07:01:48.470200",
     "status": "completed"
    },
    "tags": []
   },
   "outputs": [
    {
     "name": "stdout",
     "output_type": "stream",
     "text": [
      "   PassengerId  Survived  Pclass                                               Name     Sex   Age  SibSp  Parch            Ticket     Fare Cabin Embarked\n",
      "0            1         0       3                            Braund, Mr. Owen Harris    male  22.0      1      0         A/5 21171   7.2500   NaN        S\n",
      "1            2         1       1  Cumings, Mrs. John Bradley (Florence Briggs Th...  female  38.0      1      0          PC 17599  71.2833   C85        C\n",
      "2            3         1       3                             Heikkinen, Miss. Laina  female  26.0      0      0  STON/O2. 3101282   7.9250   NaN        S\n",
      "3            4         1       1       Futrelle, Mrs. Jacques Heath (Lily May Peel)  female  35.0      1      0            113803  53.1000  C123        S\n",
      "4            5         0       3                           Allen, Mr. William Henry    male  35.0      0      0            373450   8.0500   NaN        S\n",
      "\n",
      "   PassengerId  Pclass                                          Name     Sex   Age  SibSp  Parch   Ticket     Fare Cabin Embarked\n",
      "0          892       3                              Kelly, Mr. James    male  34.5      0      0   330911   7.8292   NaN        Q\n",
      "1          893       3              Wilkes, Mrs. James (Ellen Needs)  female  47.0      1      0   363272   7.0000   NaN        S\n",
      "2          894       2                     Myles, Mr. Thomas Francis    male  62.0      0      0   240276   9.6875   NaN        Q\n",
      "3          895       3                              Wirz, Mr. Albert    male  27.0      0      0   315154   8.6625   NaN        S\n",
      "4          896       3  Hirvonen, Mrs. Alexander (Helga E Lindqvist)  female  22.0      1      1  3101298  12.2875   NaN        S\n"
     ]
    }
   ],
   "source": [
    "pd.set_option('display.max.columns', None)\n",
    "pd.set_option('display.width',3000)\n",
    "print(train_data.head())\n",
    "print()\n",
    "print(test_data.head())"
   ]
  },
  {
   "cell_type": "code",
   "execution_count": 4,
   "id": "c1db7a83",
   "metadata": {
    "execution": {
     "iopub.execute_input": "2024-08-10T07:01:48.524252Z",
     "iopub.status.busy": "2024-08-10T07:01:48.523799Z",
     "iopub.status.idle": "2024-08-10T07:02:07.054168Z",
     "shell.execute_reply": "2024-08-10T07:02:07.052915Z"
    },
    "papermill": {
     "duration": 18.541254,
     "end_time": "2024-08-10T07:02:07.056914",
     "exception": false,
     "start_time": "2024-08-10T07:01:48.515660",
     "status": "completed"
    },
    "tags": []
   },
   "outputs": [
    {
     "name": "stdout",
     "output_type": "stream",
     "text": [
      "Collecting researchpy\r\n",
      "  Downloading researchpy-0.3.6-py3-none-any.whl.metadata (1.2 kB)\r\n",
      "Requirement already satisfied: scipy in /opt/conda/lib/python3.10/site-packages (from researchpy) (1.11.4)\r\n",
      "Requirement already satisfied: numpy in /opt/conda/lib/python3.10/site-packages (from researchpy) (1.26.4)\r\n",
      "Requirement already satisfied: pandas in /opt/conda/lib/python3.10/site-packages (from researchpy) (2.2.2)\r\n",
      "Requirement already satisfied: statsmodels in /opt/conda/lib/python3.10/site-packages (from researchpy) (0.14.1)\r\n",
      "Requirement already satisfied: patsy in /opt/conda/lib/python3.10/site-packages (from researchpy) (0.5.6)\r\n",
      "Requirement already satisfied: python-dateutil>=2.8.2 in /opt/conda/lib/python3.10/site-packages (from pandas->researchpy) (2.9.0.post0)\r\n",
      "Requirement already satisfied: pytz>=2020.1 in /opt/conda/lib/python3.10/site-packages (from pandas->researchpy) (2023.3.post1)\r\n",
      "Requirement already satisfied: tzdata>=2022.7 in /opt/conda/lib/python3.10/site-packages (from pandas->researchpy) (2023.4)\r\n",
      "Requirement already satisfied: six in /opt/conda/lib/python3.10/site-packages (from patsy->researchpy) (1.16.0)\r\n",
      "Requirement already satisfied: packaging>=21.3 in /opt/conda/lib/python3.10/site-packages (from statsmodels->researchpy) (21.3)\r\n",
      "Requirement already satisfied: pyparsing!=3.0.5,>=2.0.2 in /opt/conda/lib/python3.10/site-packages (from packaging>=21.3->statsmodels->researchpy) (3.1.1)\r\n",
      "Downloading researchpy-0.3.6-py3-none-any.whl (34 kB)\r\n",
      "Installing collected packages: researchpy\r\n",
      "Successfully installed researchpy-0.3.6\r\n"
     ]
    }
   ],
   "source": [
    "!pip install researchpy \n",
    "import researchpy as rp # to find categorical values description and confidence interval"
   ]
  },
  {
   "cell_type": "code",
   "execution_count": 5,
   "id": "cf4569bf",
   "metadata": {
    "execution": {
     "iopub.execute_input": "2024-08-10T07:02:07.073270Z",
     "iopub.status.busy": "2024-08-10T07:02:07.072834Z",
     "iopub.status.idle": "2024-08-10T07:02:07.120584Z",
     "shell.execute_reply": "2024-08-10T07:02:07.118569Z"
    },
    "papermill": {
     "duration": 0.059047,
     "end_time": "2024-08-10T07:02:07.123198",
     "exception": false,
     "start_time": "2024-08-10T07:02:07.064151",
     "status": "completed"
    },
    "tags": []
   },
   "outputs": [
    {
     "data": {
      "text/html": [
       "<div>\n",
       "<style scoped>\n",
       "    .dataframe tbody tr th:only-of-type {\n",
       "        vertical-align: middle;\n",
       "    }\n",
       "\n",
       "    .dataframe tbody tr th {\n",
       "        vertical-align: top;\n",
       "    }\n",
       "\n",
       "    .dataframe thead th {\n",
       "        text-align: right;\n",
       "    }\n",
       "</style>\n",
       "<table border=\"1\" class=\"dataframe\">\n",
       "  <thead>\n",
       "    <tr style=\"text-align: right;\">\n",
       "      <th></th>\n",
       "      <th>count</th>\n",
       "      <th>mean</th>\n",
       "      <th>std</th>\n",
       "      <th>min</th>\n",
       "      <th>25%</th>\n",
       "      <th>50%</th>\n",
       "      <th>75%</th>\n",
       "      <th>max</th>\n",
       "    </tr>\n",
       "  </thead>\n",
       "  <tbody>\n",
       "    <tr>\n",
       "      <th>PassengerId</th>\n",
       "      <td>891.0</td>\n",
       "      <td>446.000000</td>\n",
       "      <td>257.353842</td>\n",
       "      <td>1.00</td>\n",
       "      <td>223.5000</td>\n",
       "      <td>446.0000</td>\n",
       "      <td>668.5</td>\n",
       "      <td>891.0000</td>\n",
       "    </tr>\n",
       "    <tr>\n",
       "      <th>Survived</th>\n",
       "      <td>891.0</td>\n",
       "      <td>0.383838</td>\n",
       "      <td>0.486592</td>\n",
       "      <td>0.00</td>\n",
       "      <td>0.0000</td>\n",
       "      <td>0.0000</td>\n",
       "      <td>1.0</td>\n",
       "      <td>1.0000</td>\n",
       "    </tr>\n",
       "    <tr>\n",
       "      <th>Pclass</th>\n",
       "      <td>891.0</td>\n",
       "      <td>2.308642</td>\n",
       "      <td>0.836071</td>\n",
       "      <td>1.00</td>\n",
       "      <td>2.0000</td>\n",
       "      <td>3.0000</td>\n",
       "      <td>3.0</td>\n",
       "      <td>3.0000</td>\n",
       "    </tr>\n",
       "    <tr>\n",
       "      <th>Age</th>\n",
       "      <td>714.0</td>\n",
       "      <td>29.699118</td>\n",
       "      <td>14.526497</td>\n",
       "      <td>0.42</td>\n",
       "      <td>20.1250</td>\n",
       "      <td>28.0000</td>\n",
       "      <td>38.0</td>\n",
       "      <td>80.0000</td>\n",
       "    </tr>\n",
       "    <tr>\n",
       "      <th>SibSp</th>\n",
       "      <td>891.0</td>\n",
       "      <td>0.523008</td>\n",
       "      <td>1.102743</td>\n",
       "      <td>0.00</td>\n",
       "      <td>0.0000</td>\n",
       "      <td>0.0000</td>\n",
       "      <td>1.0</td>\n",
       "      <td>8.0000</td>\n",
       "    </tr>\n",
       "    <tr>\n",
       "      <th>Parch</th>\n",
       "      <td>891.0</td>\n",
       "      <td>0.381594</td>\n",
       "      <td>0.806057</td>\n",
       "      <td>0.00</td>\n",
       "      <td>0.0000</td>\n",
       "      <td>0.0000</td>\n",
       "      <td>0.0</td>\n",
       "      <td>6.0000</td>\n",
       "    </tr>\n",
       "    <tr>\n",
       "      <th>Fare</th>\n",
       "      <td>891.0</td>\n",
       "      <td>32.204208</td>\n",
       "      <td>49.693429</td>\n",
       "      <td>0.00</td>\n",
       "      <td>7.9104</td>\n",
       "      <td>14.4542</td>\n",
       "      <td>31.0</td>\n",
       "      <td>512.3292</td>\n",
       "    </tr>\n",
       "  </tbody>\n",
       "</table>\n",
       "</div>"
      ],
      "text/plain": [
       "             count        mean         std   min       25%       50%    75%       max\n",
       "PassengerId  891.0  446.000000  257.353842  1.00  223.5000  446.0000  668.5  891.0000\n",
       "Survived     891.0    0.383838    0.486592  0.00    0.0000    0.0000    1.0    1.0000\n",
       "Pclass       891.0    2.308642    0.836071  1.00    2.0000    3.0000    3.0    3.0000\n",
       "Age          714.0   29.699118   14.526497  0.42   20.1250   28.0000   38.0   80.0000\n",
       "SibSp        891.0    0.523008    1.102743  0.00    0.0000    0.0000    1.0    8.0000\n",
       "Parch        891.0    0.381594    0.806057  0.00    0.0000    0.0000    0.0    6.0000\n",
       "Fare         891.0   32.204208   49.693429  0.00    7.9104   14.4542   31.0  512.3292"
      ]
     },
     "execution_count": 5,
     "metadata": {},
     "output_type": "execute_result"
    }
   ],
   "source": [
    "train_data.describe().T # description with pandas"
   ]
  },
  {
   "cell_type": "markdown",
   "id": "b08ed503",
   "metadata": {
    "papermill": {
     "duration": 0.007262,
     "end_time": "2024-08-10T07:02:07.138184",
     "exception": false,
     "start_time": "2024-08-10T07:02:07.130922",
     "status": "completed"
    },
    "tags": []
   },
   "source": [
    "There are (891-714) 177 null value on Age column"
   ]
  },
  {
   "cell_type": "code",
   "execution_count": 6,
   "id": "e397ca9b",
   "metadata": {
    "execution": {
     "iopub.execute_input": "2024-08-10T07:02:07.155003Z",
     "iopub.status.busy": "2024-08-10T07:02:07.154618Z",
     "iopub.status.idle": "2024-08-10T07:02:07.215068Z",
     "shell.execute_reply": "2024-08-10T07:02:07.213944Z"
    },
    "papermill": {
     "duration": 0.073547,
     "end_time": "2024-08-10T07:02:07.219277",
     "exception": false,
     "start_time": "2024-08-10T07:02:07.145730",
     "status": "completed"
    },
    "tags": []
   },
   "outputs": [
    {
     "name": "stdout",
     "output_type": "stream",
     "text": [
      "\n",
      "\n"
     ]
    },
    {
     "name": "stderr",
     "output_type": "stream",
     "text": [
      "/opt/conda/lib/python3.10/site-packages/researchpy/summary.py:102: FutureWarning: Setting an item of incompatible dtype is deprecated and will raise an error in a future version of pandas. Value 'Survived' has dtype incompatible with float64, please explicitly cast to a compatible dtype first.\n",
      "  table_a.iloc[0,0] = ix\n",
      "/opt/conda/lib/python3.10/site-packages/researchpy/summary.py:102: FutureWarning: Setting an item of incompatible dtype is deprecated and will raise an error in a future version of pandas. Value 'Pclass' has dtype incompatible with float64, please explicitly cast to a compatible dtype first.\n",
      "  table_a.iloc[0,0] = ix\n",
      "/opt/conda/lib/python3.10/site-packages/researchpy/summary.py:102: FutureWarning: Setting an item of incompatible dtype is deprecated and will raise an error in a future version of pandas. Value 'Age' has dtype incompatible with float64, please explicitly cast to a compatible dtype first.\n",
      "  table_a.iloc[0,0] = ix\n",
      "/opt/conda/lib/python3.10/site-packages/researchpy/summary.py:102: FutureWarning: Setting an item of incompatible dtype is deprecated and will raise an error in a future version of pandas. Value 'SibSp' has dtype incompatible with float64, please explicitly cast to a compatible dtype first.\n",
      "  table_a.iloc[0,0] = ix\n",
      "/opt/conda/lib/python3.10/site-packages/researchpy/summary.py:102: FutureWarning: Setting an item of incompatible dtype is deprecated and will raise an error in a future version of pandas. Value 'Parch' has dtype incompatible with float64, please explicitly cast to a compatible dtype first.\n",
      "  table_a.iloc[0,0] = ix\n",
      "/opt/conda/lib/python3.10/site-packages/researchpy/summary.py:102: FutureWarning: Setting an item of incompatible dtype is deprecated and will raise an error in a future version of pandas. Value 'Fare' has dtype incompatible with float64, please explicitly cast to a compatible dtype first.\n",
      "  table_a.iloc[0,0] = ix\n"
     ]
    },
    {
     "data": {
      "text/html": [
       "<div>\n",
       "<style scoped>\n",
       "    .dataframe tbody tr th:only-of-type {\n",
       "        vertical-align: middle;\n",
       "    }\n",
       "\n",
       "    .dataframe tbody tr th {\n",
       "        vertical-align: top;\n",
       "    }\n",
       "\n",
       "    .dataframe thead th {\n",
       "        text-align: right;\n",
       "    }\n",
       "</style>\n",
       "<table border=\"1\" class=\"dataframe\">\n",
       "  <thead>\n",
       "    <tr style=\"text-align: right;\">\n",
       "      <th></th>\n",
       "      <th>Variable</th>\n",
       "      <th>N</th>\n",
       "      <th>Mean</th>\n",
       "      <th>SD</th>\n",
       "      <th>SE</th>\n",
       "      <th>95% Conf.</th>\n",
       "      <th>Interval</th>\n",
       "    </tr>\n",
       "  </thead>\n",
       "  <tbody>\n",
       "    <tr>\n",
       "      <th>0</th>\n",
       "      <td>Survived</td>\n",
       "      <td>891.0</td>\n",
       "      <td>0.3838</td>\n",
       "      <td>0.4866</td>\n",
       "      <td>0.0163</td>\n",
       "      <td>0.3518</td>\n",
       "      <td>0.4158</td>\n",
       "    </tr>\n",
       "    <tr>\n",
       "      <th>1</th>\n",
       "      <td>Pclass</td>\n",
       "      <td>891.0</td>\n",
       "      <td>2.3086</td>\n",
       "      <td>0.8361</td>\n",
       "      <td>0.0280</td>\n",
       "      <td>2.2537</td>\n",
       "      <td>2.3636</td>\n",
       "    </tr>\n",
       "    <tr>\n",
       "      <th>2</th>\n",
       "      <td>Age</td>\n",
       "      <td>714.0</td>\n",
       "      <td>29.6991</td>\n",
       "      <td>14.5265</td>\n",
       "      <td>0.5436</td>\n",
       "      <td>28.6318</td>\n",
       "      <td>30.7664</td>\n",
       "    </tr>\n",
       "    <tr>\n",
       "      <th>3</th>\n",
       "      <td>SibSp</td>\n",
       "      <td>891.0</td>\n",
       "      <td>0.5230</td>\n",
       "      <td>1.1027</td>\n",
       "      <td>0.0369</td>\n",
       "      <td>0.4505</td>\n",
       "      <td>0.5955</td>\n",
       "    </tr>\n",
       "    <tr>\n",
       "      <th>4</th>\n",
       "      <td>Parch</td>\n",
       "      <td>891.0</td>\n",
       "      <td>0.3816</td>\n",
       "      <td>0.8061</td>\n",
       "      <td>0.0270</td>\n",
       "      <td>0.3286</td>\n",
       "      <td>0.4346</td>\n",
       "    </tr>\n",
       "    <tr>\n",
       "      <th>5</th>\n",
       "      <td>Fare</td>\n",
       "      <td>891.0</td>\n",
       "      <td>32.2042</td>\n",
       "      <td>49.6934</td>\n",
       "      <td>1.6648</td>\n",
       "      <td>28.9368</td>\n",
       "      <td>35.4716</td>\n",
       "    </tr>\n",
       "  </tbody>\n",
       "</table>\n",
       "</div>"
      ],
      "text/plain": [
       "   Variable      N     Mean       SD      SE  95% Conf.  Interval\n",
       "0  Survived  891.0   0.3838   0.4866  0.0163     0.3518    0.4158\n",
       "1    Pclass  891.0   2.3086   0.8361  0.0280     2.2537    2.3636\n",
       "2       Age  714.0  29.6991  14.5265  0.5436    28.6318   30.7664\n",
       "3     SibSp  891.0   0.5230   1.1027  0.0369     0.4505    0.5955\n",
       "4     Parch  891.0   0.3816   0.8061  0.0270     0.3286    0.4346\n",
       "5      Fare  891.0  32.2042  49.6934  1.6648    28.9368   35.4716"
      ]
     },
     "execution_count": 6,
     "metadata": {},
     "output_type": "execute_result"
    }
   ],
   "source": [
    "rp.summary_cont(train_data[[ \"Survived\", \"Pclass\", \"Age\", \"SibSp\", \"Parch\", \"Fare\"]])"
   ]
  },
  {
   "cell_type": "code",
   "execution_count": 7,
   "id": "9e4237fb",
   "metadata": {
    "execution": {
     "iopub.execute_input": "2024-08-10T07:02:07.237634Z",
     "iopub.status.busy": "2024-08-10T07:02:07.236884Z",
     "iopub.status.idle": "2024-08-10T07:02:07.267428Z",
     "shell.execute_reply": "2024-08-10T07:02:07.266257Z"
    },
    "papermill": {
     "duration": 0.042535,
     "end_time": "2024-08-10T07:02:07.270122",
     "exception": false,
     "start_time": "2024-08-10T07:02:07.227587",
     "status": "completed"
    },
    "tags": []
   },
   "outputs": [
    {
     "data": {
      "text/html": [
       "<div>\n",
       "<style scoped>\n",
       "    .dataframe tbody tr th:only-of-type {\n",
       "        vertical-align: middle;\n",
       "    }\n",
       "\n",
       "    .dataframe tbody tr th {\n",
       "        vertical-align: top;\n",
       "    }\n",
       "\n",
       "    .dataframe thead th {\n",
       "        text-align: right;\n",
       "    }\n",
       "</style>\n",
       "<table border=\"1\" class=\"dataframe\">\n",
       "  <thead>\n",
       "    <tr style=\"text-align: right;\">\n",
       "      <th></th>\n",
       "      <th>Variable</th>\n",
       "      <th>Outcome</th>\n",
       "      <th>Count</th>\n",
       "      <th>Percent</th>\n",
       "    </tr>\n",
       "  </thead>\n",
       "  <tbody>\n",
       "    <tr>\n",
       "      <th>0</th>\n",
       "      <td>Sex</td>\n",
       "      <td>male</td>\n",
       "      <td>577</td>\n",
       "      <td>64.76</td>\n",
       "    </tr>\n",
       "    <tr>\n",
       "      <th>1</th>\n",
       "      <td></td>\n",
       "      <td>female</td>\n",
       "      <td>314</td>\n",
       "      <td>35.24</td>\n",
       "    </tr>\n",
       "    <tr>\n",
       "      <th>2</th>\n",
       "      <td>Survived</td>\n",
       "      <td>0</td>\n",
       "      <td>549</td>\n",
       "      <td>61.62</td>\n",
       "    </tr>\n",
       "    <tr>\n",
       "      <th>3</th>\n",
       "      <td></td>\n",
       "      <td>1</td>\n",
       "      <td>342</td>\n",
       "      <td>38.38</td>\n",
       "    </tr>\n",
       "  </tbody>\n",
       "</table>\n",
       "</div>"
      ],
      "text/plain": [
       "   Variable Outcome  Count  Percent\n",
       "0       Sex    male    577    64.76\n",
       "1            female    314    35.24\n",
       "2  Survived       0    549    61.62\n",
       "3                 1    342    38.38"
      ]
     },
     "execution_count": 7,
     "metadata": {},
     "output_type": "execute_result"
    }
   ],
   "source": [
    "rp.summary_cat(train_data[[\"Sex\", \"Survived\"]])"
   ]
  },
  {
   "cell_type": "code",
   "execution_count": 8,
   "id": "a2b60653",
   "metadata": {
    "execution": {
     "iopub.execute_input": "2024-08-10T07:02:07.288898Z",
     "iopub.status.busy": "2024-08-10T07:02:07.288479Z",
     "iopub.status.idle": "2024-08-10T07:02:07.318377Z",
     "shell.execute_reply": "2024-08-10T07:02:07.316629Z"
    },
    "papermill": {
     "duration": 0.042455,
     "end_time": "2024-08-10T07:02:07.321175",
     "exception": false,
     "start_time": "2024-08-10T07:02:07.278720",
     "status": "completed"
    },
    "tags": []
   },
   "outputs": [
    {
     "name": "stdout",
     "output_type": "stream",
     "text": [
      "            mean      sum    count\n",
      "        Survived Survived Survived\n",
      "Sex                               \n",
      "female  0.742038      233      314\n",
      "male    0.188908      109      577\n"
     ]
    }
   ],
   "source": [
    "pivot_table=train_data.pivot_table(values=\"Survived\",\n",
    "                                  index=\"Sex\",\n",
    "                                  aggfunc=['mean', 'sum', 'count'])\n",
    "print(pivot_table)"
   ]
  },
  {
   "cell_type": "code",
   "execution_count": 9,
   "id": "cb564c13",
   "metadata": {
    "execution": {
     "iopub.execute_input": "2024-08-10T07:02:07.341252Z",
     "iopub.status.busy": "2024-08-10T07:02:07.340838Z",
     "iopub.status.idle": "2024-08-10T07:02:07.602723Z",
     "shell.execute_reply": "2024-08-10T07:02:07.601413Z"
    },
    "papermill": {
     "duration": 0.275795,
     "end_time": "2024-08-10T07:02:07.605530",
     "exception": false,
     "start_time": "2024-08-10T07:02:07.329735",
     "status": "completed"
    },
    "tags": []
   },
   "outputs": [
    {
     "name": "stderr",
     "output_type": "stream",
     "text": [
      "/tmp/ipykernel_19/1221406598.py:4: FutureWarning: A value is trying to be set on a copy of a DataFrame or Series through chained assignment using an inplace method.\n",
      "The behavior will change in pandas 3.0. This inplace method will never work because the intermediate object on which we are setting values always behaves as a copy.\n",
      "\n",
      "For example, when doing 'df[col].method(value, inplace=True)', try using 'df.method({col: value}, inplace=True)' or df[col] = df[col].method(value) instead, to perform the operation inplace on the original object.\n",
      "\n",
      "\n",
      "  train_data[\"Age\"].fillna(train_data['Age'].median(),\n",
      "/tmp/ipykernel_19/1221406598.py:9: FutureWarning: A value is trying to be set on a copy of a DataFrame or Series through chained assignment using an inplace method.\n",
      "The behavior will change in pandas 3.0. This inplace method will never work because the intermediate object on which we are setting values always behaves as a copy.\n",
      "\n",
      "For example, when doing 'df[col].method(value, inplace=True)', try using 'df.method({col: value}, inplace=True)' or df[col] = df[col].method(value) instead, to perform the operation inplace on the original object.\n",
      "\n",
      "\n",
      "  test_data[\"Age\"].fillna(test_data['Age'].median(),\n",
      "/tmp/ipykernel_19/1221406598.py:14: FutureWarning: A value is trying to be set on a copy of a DataFrame or Series through chained assignment using an inplace method.\n",
      "The behavior will change in pandas 3.0. This inplace method will never work because the intermediate object on which we are setting values always behaves as a copy.\n",
      "\n",
      "For example, when doing 'df[col].method(value, inplace=True)', try using 'df.method({col: value}, inplace=True)' or df[col] = df[col].method(value) instead, to perform the operation inplace on the original object.\n",
      "\n",
      "\n",
      "  test_data[\"Fare\"].fillna(test_data['Fare'].median(),\n"
     ]
    },
    {
     "data": {
      "text/html": [
       "<div>\n",
       "<style scoped>\n",
       "    .dataframe tbody tr th:only-of-type {\n",
       "        vertical-align: middle;\n",
       "    }\n",
       "\n",
       "    .dataframe tbody tr th {\n",
       "        vertical-align: top;\n",
       "    }\n",
       "\n",
       "    .dataframe thead th {\n",
       "        text-align: right;\n",
       "    }\n",
       "</style>\n",
       "<table border=\"1\" class=\"dataframe\">\n",
       "  <thead>\n",
       "    <tr style=\"text-align: right;\">\n",
       "      <th></th>\n",
       "      <th>count</th>\n",
       "      <th>mean</th>\n",
       "      <th>std</th>\n",
       "      <th>min</th>\n",
       "      <th>25%</th>\n",
       "      <th>50%</th>\n",
       "      <th>75%</th>\n",
       "      <th>max</th>\n",
       "    </tr>\n",
       "  </thead>\n",
       "  <tbody>\n",
       "    <tr>\n",
       "      <th>PassengerId</th>\n",
       "      <td>418.0</td>\n",
       "      <td>1100.500000</td>\n",
       "      <td>120.810458</td>\n",
       "      <td>892.00</td>\n",
       "      <td>996.2500</td>\n",
       "      <td>1100.5000</td>\n",
       "      <td>1204.750000</td>\n",
       "      <td>1309.0000</td>\n",
       "    </tr>\n",
       "    <tr>\n",
       "      <th>Pclass</th>\n",
       "      <td>418.0</td>\n",
       "      <td>2.265550</td>\n",
       "      <td>0.841838</td>\n",
       "      <td>1.00</td>\n",
       "      <td>1.0000</td>\n",
       "      <td>3.0000</td>\n",
       "      <td>3.000000</td>\n",
       "      <td>3.0000</td>\n",
       "    </tr>\n",
       "    <tr>\n",
       "      <th>Age</th>\n",
       "      <td>418.0</td>\n",
       "      <td>29.599282</td>\n",
       "      <td>12.703770</td>\n",
       "      <td>0.17</td>\n",
       "      <td>23.0000</td>\n",
       "      <td>27.0000</td>\n",
       "      <td>35.750000</td>\n",
       "      <td>76.0000</td>\n",
       "    </tr>\n",
       "    <tr>\n",
       "      <th>SibSp</th>\n",
       "      <td>418.0</td>\n",
       "      <td>0.447368</td>\n",
       "      <td>0.896760</td>\n",
       "      <td>0.00</td>\n",
       "      <td>0.0000</td>\n",
       "      <td>0.0000</td>\n",
       "      <td>1.000000</td>\n",
       "      <td>8.0000</td>\n",
       "    </tr>\n",
       "    <tr>\n",
       "      <th>Parch</th>\n",
       "      <td>418.0</td>\n",
       "      <td>0.392344</td>\n",
       "      <td>0.981429</td>\n",
       "      <td>0.00</td>\n",
       "      <td>0.0000</td>\n",
       "      <td>0.0000</td>\n",
       "      <td>0.000000</td>\n",
       "      <td>9.0000</td>\n",
       "    </tr>\n",
       "    <tr>\n",
       "      <th>Fare</th>\n",
       "      <td>418.0</td>\n",
       "      <td>35.576535</td>\n",
       "      <td>55.850103</td>\n",
       "      <td>0.00</td>\n",
       "      <td>7.8958</td>\n",
       "      <td>14.4542</td>\n",
       "      <td>31.471875</td>\n",
       "      <td>512.3292</td>\n",
       "    </tr>\n",
       "  </tbody>\n",
       "</table>\n",
       "</div>"
      ],
      "text/plain": [
       "             count         mean         std     min       25%        50%          75%        max\n",
       "PassengerId  418.0  1100.500000  120.810458  892.00  996.2500  1100.5000  1204.750000  1309.0000\n",
       "Pclass       418.0     2.265550    0.841838    1.00    1.0000     3.0000     3.000000     3.0000\n",
       "Age          418.0    29.599282   12.703770    0.17   23.0000    27.0000    35.750000    76.0000\n",
       "SibSp        418.0     0.447368    0.896760    0.00    0.0000     0.0000     1.000000     8.0000\n",
       "Parch        418.0     0.392344    0.981429    0.00    0.0000     0.0000     0.000000     9.0000\n",
       "Fare         418.0    35.576535   55.850103    0.00    7.8958    14.4542    31.471875   512.3292"
      ]
     },
     "execution_count": 9,
     "metadata": {},
     "output_type": "execute_result"
    }
   ],
   "source": [
    "import matplotlib.pyplot as plt \n",
    "import seaborn as sns \n",
    "\n",
    "train_data[\"Age\"].fillna(train_data['Age'].median(),\n",
    "                        inplace=True)\n",
    "\n",
    "train_data.describe().T\n",
    "\n",
    "test_data[\"Age\"].fillna(test_data['Age'].median(),\n",
    "                        inplace=True)\n",
    "\n",
    "test_data.describe().T\n",
    "\n",
    "test_data[\"Fare\"].fillna(test_data['Fare'].median(),\n",
    "                        inplace=True)\n",
    "\n",
    "test_data.describe().T"
   ]
  },
  {
   "cell_type": "code",
   "execution_count": 10,
   "id": "ae580fd0",
   "metadata": {
    "execution": {
     "iopub.execute_input": "2024-08-10T07:02:07.624977Z",
     "iopub.status.busy": "2024-08-10T07:02:07.624551Z",
     "iopub.status.idle": "2024-08-10T07:02:07.630129Z",
     "shell.execute_reply": "2024-08-10T07:02:07.628752Z"
    },
    "papermill": {
     "duration": 0.018361,
     "end_time": "2024-08-10T07:02:07.632801",
     "exception": false,
     "start_time": "2024-08-10T07:02:07.614440",
     "status": "completed"
    },
    "tags": []
   },
   "outputs": [],
   "source": [
    "y=train_data.Survived "
   ]
  },
  {
   "cell_type": "code",
   "execution_count": 11,
   "id": "f2f9ed07",
   "metadata": {
    "execution": {
     "iopub.execute_input": "2024-08-10T07:02:07.652235Z",
     "iopub.status.busy": "2024-08-10T07:02:07.651853Z",
     "iopub.status.idle": "2024-08-10T07:02:07.656870Z",
     "shell.execute_reply": "2024-08-10T07:02:07.655702Z"
    },
    "papermill": {
     "duration": 0.017853,
     "end_time": "2024-08-10T07:02:07.659581",
     "exception": false,
     "start_time": "2024-08-10T07:02:07.641728",
     "status": "completed"
    },
    "tags": []
   },
   "outputs": [],
   "source": [
    "x_feature=[ 'Age']"
   ]
  },
  {
   "cell_type": "code",
   "execution_count": 12,
   "id": "1ee88485",
   "metadata": {
    "execution": {
     "iopub.execute_input": "2024-08-10T07:02:07.679660Z",
     "iopub.status.busy": "2024-08-10T07:02:07.678675Z",
     "iopub.status.idle": "2024-08-10T07:02:07.685851Z",
     "shell.execute_reply": "2024-08-10T07:02:07.684434Z"
    },
    "papermill": {
     "duration": 0.019922,
     "end_time": "2024-08-10T07:02:07.688422",
     "exception": false,
     "start_time": "2024-08-10T07:02:07.668500",
     "status": "completed"
    },
    "tags": []
   },
   "outputs": [],
   "source": [
    "X=train_data[x_feature]\n",
    "X_test=test_data[x_feature]"
   ]
  },
  {
   "cell_type": "code",
   "execution_count": 13,
   "id": "865a0bb0",
   "metadata": {
    "execution": {
     "iopub.execute_input": "2024-08-10T07:02:07.707938Z",
     "iopub.status.busy": "2024-08-10T07:02:07.707567Z",
     "iopub.status.idle": "2024-08-10T07:02:08.324764Z",
     "shell.execute_reply": "2024-08-10T07:02:08.323511Z"
    },
    "papermill": {
     "duration": 0.629935,
     "end_time": "2024-08-10T07:02:08.327258",
     "exception": false,
     "start_time": "2024-08-10T07:02:07.697323",
     "status": "completed"
    },
    "tags": []
   },
   "outputs": [
    {
     "data": {
      "text/html": [
       "<style>#sk-container-id-1 {color: black;background-color: white;}#sk-container-id-1 pre{padding: 0;}#sk-container-id-1 div.sk-toggleable {background-color: white;}#sk-container-id-1 label.sk-toggleable__label {cursor: pointer;display: block;width: 100%;margin-bottom: 0;padding: 0.3em;box-sizing: border-box;text-align: center;}#sk-container-id-1 label.sk-toggleable__label-arrow:before {content: \"▸\";float: left;margin-right: 0.25em;color: #696969;}#sk-container-id-1 label.sk-toggleable__label-arrow:hover:before {color: black;}#sk-container-id-1 div.sk-estimator:hover label.sk-toggleable__label-arrow:before {color: black;}#sk-container-id-1 div.sk-toggleable__content {max-height: 0;max-width: 0;overflow: hidden;text-align: left;background-color: #f0f8ff;}#sk-container-id-1 div.sk-toggleable__content pre {margin: 0.2em;color: black;border-radius: 0.25em;background-color: #f0f8ff;}#sk-container-id-1 input.sk-toggleable__control:checked~div.sk-toggleable__content {max-height: 200px;max-width: 100%;overflow: auto;}#sk-container-id-1 input.sk-toggleable__control:checked~label.sk-toggleable__label-arrow:before {content: \"▾\";}#sk-container-id-1 div.sk-estimator input.sk-toggleable__control:checked~label.sk-toggleable__label {background-color: #d4ebff;}#sk-container-id-1 div.sk-label input.sk-toggleable__control:checked~label.sk-toggleable__label {background-color: #d4ebff;}#sk-container-id-1 input.sk-hidden--visually {border: 0;clip: rect(1px 1px 1px 1px);clip: rect(1px, 1px, 1px, 1px);height: 1px;margin: -1px;overflow: hidden;padding: 0;position: absolute;width: 1px;}#sk-container-id-1 div.sk-estimator {font-family: monospace;background-color: #f0f8ff;border: 1px dotted black;border-radius: 0.25em;box-sizing: border-box;margin-bottom: 0.5em;}#sk-container-id-1 div.sk-estimator:hover {background-color: #d4ebff;}#sk-container-id-1 div.sk-parallel-item::after {content: \"\";width: 100%;border-bottom: 1px solid gray;flex-grow: 1;}#sk-container-id-1 div.sk-label:hover label.sk-toggleable__label {background-color: #d4ebff;}#sk-container-id-1 div.sk-serial::before {content: \"\";position: absolute;border-left: 1px solid gray;box-sizing: border-box;top: 0;bottom: 0;left: 50%;z-index: 0;}#sk-container-id-1 div.sk-serial {display: flex;flex-direction: column;align-items: center;background-color: white;padding-right: 0.2em;padding-left: 0.2em;position: relative;}#sk-container-id-1 div.sk-item {position: relative;z-index: 1;}#sk-container-id-1 div.sk-parallel {display: flex;align-items: stretch;justify-content: center;background-color: white;position: relative;}#sk-container-id-1 div.sk-item::before, #sk-container-id-1 div.sk-parallel-item::before {content: \"\";position: absolute;border-left: 1px solid gray;box-sizing: border-box;top: 0;bottom: 0;left: 50%;z-index: -1;}#sk-container-id-1 div.sk-parallel-item {display: flex;flex-direction: column;z-index: 1;position: relative;background-color: white;}#sk-container-id-1 div.sk-parallel-item:first-child::after {align-self: flex-end;width: 50%;}#sk-container-id-1 div.sk-parallel-item:last-child::after {align-self: flex-start;width: 50%;}#sk-container-id-1 div.sk-parallel-item:only-child::after {width: 0;}#sk-container-id-1 div.sk-dashed-wrapped {border: 1px dashed gray;margin: 0 0.4em 0.5em 0.4em;box-sizing: border-box;padding-bottom: 0.4em;background-color: white;}#sk-container-id-1 div.sk-label label {font-family: monospace;font-weight: bold;display: inline-block;line-height: 1.2em;}#sk-container-id-1 div.sk-label-container {text-align: center;}#sk-container-id-1 div.sk-container {/* jupyter's `normalize.less` sets `[hidden] { display: none; }` but bootstrap.min.css set `[hidden] { display: none !important; }` so we also need the `!important` here to be able to override the default hidden behavior on the sphinx rendered scikit-learn.org. See: https://github.com/scikit-learn/scikit-learn/issues/21755 */display: inline-block !important;position: relative;}#sk-container-id-1 div.sk-text-repr-fallback {display: none;}</style><div id=\"sk-container-id-1\" class=\"sk-top-container\"><div class=\"sk-text-repr-fallback\"><pre>DecisionTreeClassifier(random_state=0)</pre><b>In a Jupyter environment, please rerun this cell to show the HTML representation or trust the notebook. <br />On GitHub, the HTML representation is unable to render, please try loading this page with nbviewer.org.</b></div><div class=\"sk-container\" hidden><div class=\"sk-item\"><div class=\"sk-estimator sk-toggleable\"><input class=\"sk-toggleable__control sk-hidden--visually\" id=\"sk-estimator-id-1\" type=\"checkbox\" checked><label for=\"sk-estimator-id-1\" class=\"sk-toggleable__label sk-toggleable__label-arrow\">DecisionTreeClassifier</label><div class=\"sk-toggleable__content\"><pre>DecisionTreeClassifier(random_state=0)</pre></div></div></div></div></div>"
      ],
      "text/plain": [
       "DecisionTreeClassifier(random_state=0)"
      ]
     },
     "execution_count": 13,
     "metadata": {},
     "output_type": "execute_result"
    }
   ],
   "source": [
    "from sklearn.tree import DecisionTreeClassifier\n",
    "model=DecisionTreeClassifier(random_state=0)\n",
    "model.fit(X,y)\n"
   ]
  },
  {
   "cell_type": "code",
   "execution_count": 14,
   "id": "babdad3e",
   "metadata": {
    "execution": {
     "iopub.execute_input": "2024-08-10T07:02:08.348242Z",
     "iopub.status.busy": "2024-08-10T07:02:08.347824Z",
     "iopub.status.idle": "2024-08-10T07:02:08.355371Z",
     "shell.execute_reply": "2024-08-10T07:02:08.354089Z"
    },
    "papermill": {
     "duration": 0.02137,
     "end_time": "2024-08-10T07:02:08.357974",
     "exception": false,
     "start_time": "2024-08-10T07:02:08.336604",
     "status": "completed"
    },
    "tags": []
   },
   "outputs": [],
   "source": [
    "predict_X=model.predict(X_test)"
   ]
  },
  {
   "cell_type": "code",
   "execution_count": 15,
   "id": "1682ca1b",
   "metadata": {
    "execution": {
     "iopub.execute_input": "2024-08-10T07:02:08.379564Z",
     "iopub.status.busy": "2024-08-10T07:02:08.378457Z",
     "iopub.status.idle": "2024-08-10T07:02:08.388090Z",
     "shell.execute_reply": "2024-08-10T07:02:08.386906Z"
    },
    "papermill": {
     "duration": 0.023451,
     "end_time": "2024-08-10T07:02:08.390529",
     "exception": false,
     "start_time": "2024-08-10T07:02:08.367078",
     "status": "completed"
    },
    "tags": []
   },
   "outputs": [
    {
     "data": {
      "text/plain": [
       "array([0, 0, 0, 1, 0, 0, 0, 0, 0, 0, 1, 0, 0, 1, 0, 0, 1, 0, 1, 0, 0, 0,\n",
       "       1, 0, 1, 0, 0, 0, 0, 1, 0, 0, 0, 1, 0, 0, 1, 0, 0, 1, 0, 1, 0, 0,\n",
       "       0, 0, 0, 1, 0, 0, 0, 1, 0, 0, 1, 0, 1, 0, 1, 0, 0, 0, 0, 0, 1, 1,\n",
       "       0, 0, 0, 0, 0, 0, 0, 0, 1, 0, 1, 0, 0, 0, 1, 0, 1, 1, 1, 1, 1, 0,\n",
       "       1, 0, 0, 1, 1, 1, 0, 0, 0, 0, 0, 0, 0, 1, 1, 0, 0, 0, 0, 1, 1, 0,\n",
       "       0, 1, 0, 0, 1, 0, 1, 1, 0, 0, 1, 1, 1, 0, 1, 0, 0, 1, 0, 0, 0, 1,\n",
       "       1, 1, 0, 0, 0, 0, 0, 0, 0, 0, 0, 0, 0, 0, 1, 0, 1, 0, 0, 1, 0, 0,\n",
       "       1, 0, 0, 0, 0, 0, 1, 0, 0, 1, 0, 0, 1, 0, 1, 0, 1, 1, 0, 1, 0, 1,\n",
       "       0, 0, 0, 0, 0, 0, 0, 1, 1, 0, 0, 0, 1, 0, 0, 1, 0, 0, 0, 0, 1, 0,\n",
       "       0, 1, 1, 1, 0, 0, 0, 1, 1, 0, 0, 0, 0, 1, 0, 0, 0, 0, 1, 0, 0, 1,\n",
       "       0, 0, 0, 0, 1, 1, 0, 1, 0, 0, 0, 0, 0, 1, 0, 0, 0, 0, 0, 1, 0, 0,\n",
       "       0, 1, 1, 0, 0, 0, 0, 1, 1, 0, 1, 0, 0, 1, 1, 0, 0, 0, 0, 0, 0, 1,\n",
       "       0, 1, 1, 1, 1, 0, 0, 1, 0, 1, 1, 0, 0, 0, 0, 0, 0, 1, 1, 0, 0, 0,\n",
       "       1, 0, 1, 1, 1, 0, 1, 1, 0, 0, 1, 1, 0, 0, 0, 1, 0, 0, 1, 0, 0, 1,\n",
       "       0, 0, 0, 0, 1, 0, 0, 0, 0, 0, 1, 0, 0, 0, 0, 0, 0, 0, 1, 0, 0, 0,\n",
       "       1, 0, 1, 0, 1, 0, 0, 0, 0, 1, 0, 0, 1, 1, 1, 0, 0, 0, 0, 0, 0, 0,\n",
       "       0, 1, 1, 0, 0, 1, 1, 0, 0, 0, 0, 1, 0, 1, 1, 0, 0, 0, 0, 0, 1, 0,\n",
       "       0, 0, 0, 0, 0, 1, 1, 0, 1, 0, 1, 0, 0, 0, 0, 1, 0, 0, 1, 0, 0, 0,\n",
       "       0, 1, 0, 0, 0, 0, 0, 0, 0, 0, 0, 0, 1, 1, 1, 0, 0, 1, 0, 0, 1, 1])"
      ]
     },
     "execution_count": 15,
     "metadata": {},
     "output_type": "execute_result"
    }
   ],
   "source": [
    "predict_X"
   ]
  }
 ],
 "metadata": {
  "kaggle": {
   "accelerator": "none",
   "dataSources": [
    {
     "databundleVersionId": 26502,
     "sourceId": 3136,
     "sourceType": "competition"
    }
   ],
   "dockerImageVersionId": 30746,
   "isGpuEnabled": false,
   "isInternetEnabled": true,
   "language": "python",
   "sourceType": "notebook"
  },
  "kernelspec": {
   "display_name": "Python 3",
   "language": "python",
   "name": "python3"
  },
  "language_info": {
   "codemirror_mode": {
    "name": "ipython",
    "version": 3
   },
   "file_extension": ".py",
   "mimetype": "text/x-python",
   "name": "python",
   "nbconvert_exporter": "python",
   "pygments_lexer": "ipython3",
   "version": "3.10.13"
  },
  "papermill": {
   "default_parameters": {},
   "duration": 24.906353,
   "end_time": "2024-08-10T07:02:09.020923",
   "environment_variables": {},
   "exception": null,
   "input_path": "__notebook__.ipynb",
   "output_path": "__notebook__.ipynb",
   "parameters": {},
   "start_time": "2024-08-10T07:01:44.114570",
   "version": "2.5.0"
  }
 },
 "nbformat": 4,
 "nbformat_minor": 5
}
