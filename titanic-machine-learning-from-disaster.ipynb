{
 "cells": [
  {
   "cell_type": "code",
   "execution_count": 1,
   "id": "27b9ee8f",
   "metadata": {
    "_cell_guid": "b1076dfc-b9ad-4769-8c92-a6c4dae69d19",
    "_uuid": "8f2839f25d086af736a60e9eeb907d3b93b6e0e5",
    "execution": {
     "iopub.execute_input": "2024-08-10T11:18:58.940914Z",
     "iopub.status.busy": "2024-08-10T11:18:58.940492Z",
     "iopub.status.idle": "2024-08-10T11:18:59.939861Z",
     "shell.execute_reply": "2024-08-10T11:18:59.938255Z"
    },
    "papermill": {
     "duration": 1.009367,
     "end_time": "2024-08-10T11:18:59.942908",
     "exception": false,
     "start_time": "2024-08-10T11:18:58.933541",
     "status": "completed"
    },
    "tags": []
   },
   "outputs": [
    {
     "name": "stdout",
     "output_type": "stream",
     "text": [
      "/kaggle/input/titanic/train.csv\n",
      "/kaggle/input/titanic/test.csv\n",
      "/kaggle/input/titanic/gender_submission.csv\n"
     ]
    }
   ],
   "source": [
    "# This Python 3 environment comes with many helpful analytics libraries installed\n",
    "# It is defined by the kaggle/python Docker image: https://github.com/kaggle/docker-python\n",
    "# For example, here's several helpful packages to load\n",
    "\n",
    "import numpy as np # linear algebra\n",
    "import pandas as pd # data processing, CSV file I/O (e.g. pd.read_csv)\n",
    "\n",
    "# Input data files are available in the read-only \"../input/\" directory\n",
    "# For example, running this (by clicking run or pressing Shift+Enter) will list all files under the input directory\n",
    "\n",
    "import os\n",
    "for dirname, _, filenames in os.walk('/kaggle/input'):\n",
    "    for filename in filenames:\n",
    "        print(os.path.join(dirname, filename))\n",
    "\n",
    "# You can write up to 20GB to the current directory (/kaggle/working/) that gets preserved as output when you create a version using \"Save & Run All\" \n",
    "# You can also write temporary files to /kaggle/temp/, but they won't be saved outside of the current session"
   ]
  },
  {
   "cell_type": "markdown",
   "id": "ab89e298",
   "metadata": {
    "papermill": {
     "duration": 0.004691,
     "end_time": "2024-08-10T11:18:59.953342",
     "exception": false,
     "start_time": "2024-08-10T11:18:59.948651",
     "status": "completed"
    },
    "tags": []
   },
   "source": [
    "/kaggle/input/titanic/train.csv\n",
    "\n",
    "/kaggle/input/titanic/test.csv\n",
    "\n",
    "/kaggle/input/titanic/gender_submission.csv"
   ]
  },
  {
   "cell_type": "code",
   "execution_count": 2,
   "id": "4e75708b",
   "metadata": {
    "execution": {
     "iopub.execute_input": "2024-08-10T11:18:59.966126Z",
     "iopub.status.busy": "2024-08-10T11:18:59.965096Z",
     "iopub.status.idle": "2024-08-10T11:18:59.999140Z",
     "shell.execute_reply": "2024-08-10T11:18:59.997798Z"
    },
    "papermill": {
     "duration": 0.043805,
     "end_time": "2024-08-10T11:19:00.002493",
     "exception": false,
     "start_time": "2024-08-10T11:18:59.958688",
     "status": "completed"
    },
    "tags": []
   },
   "outputs": [],
   "source": [
    "train_data=pd.read_csv('/kaggle/input/titanic/train.csv')\n",
    "test_data=pd.read_csv('/kaggle/input/titanic/test.csv')"
   ]
  },
  {
   "cell_type": "code",
   "execution_count": 3,
   "id": "28d93370",
   "metadata": {
    "execution": {
     "iopub.execute_input": "2024-08-10T11:19:00.015362Z",
     "iopub.status.busy": "2024-08-10T11:19:00.014845Z",
     "iopub.status.idle": "2024-08-10T11:19:00.044592Z",
     "shell.execute_reply": "2024-08-10T11:19:00.042984Z"
    },
    "papermill": {
     "duration": 0.039843,
     "end_time": "2024-08-10T11:19:00.047785",
     "exception": false,
     "start_time": "2024-08-10T11:19:00.007942",
     "status": "completed"
    },
    "tags": []
   },
   "outputs": [
    {
     "name": "stdout",
     "output_type": "stream",
     "text": [
      "   PassengerId  Survived  Pclass                                               Name     Sex   Age  SibSp  Parch            Ticket     Fare Cabin Embarked\n",
      "0            1         0       3                            Braund, Mr. Owen Harris    male  22.0      1      0         A/5 21171   7.2500   NaN        S\n",
      "1            2         1       1  Cumings, Mrs. John Bradley (Florence Briggs Th...  female  38.0      1      0          PC 17599  71.2833   C85        C\n",
      "2            3         1       3                             Heikkinen, Miss. Laina  female  26.0      0      0  STON/O2. 3101282   7.9250   NaN        S\n",
      "3            4         1       1       Futrelle, Mrs. Jacques Heath (Lily May Peel)  female  35.0      1      0            113803  53.1000  C123        S\n",
      "4            5         0       3                           Allen, Mr. William Henry    male  35.0      0      0            373450   8.0500   NaN        S\n",
      "\n",
      "   PassengerId  Pclass                                          Name     Sex   Age  SibSp  Parch   Ticket     Fare Cabin Embarked\n",
      "0          892       3                              Kelly, Mr. James    male  34.5      0      0   330911   7.8292   NaN        Q\n",
      "1          893       3              Wilkes, Mrs. James (Ellen Needs)  female  47.0      1      0   363272   7.0000   NaN        S\n",
      "2          894       2                     Myles, Mr. Thomas Francis    male  62.0      0      0   240276   9.6875   NaN        Q\n",
      "3          895       3                              Wirz, Mr. Albert    male  27.0      0      0   315154   8.6625   NaN        S\n",
      "4          896       3  Hirvonen, Mrs. Alexander (Helga E Lindqvist)  female  22.0      1      1  3101298  12.2875   NaN        S\n"
     ]
    }
   ],
   "source": [
    "pd.set_option('display.max.columns', None)\n",
    "pd.set_option('display.width',3000)\n",
    "print(train_data.head())\n",
    "print()\n",
    "print(test_data.head())"
   ]
  },
  {
   "cell_type": "code",
   "execution_count": 4,
   "id": "b271c4f6",
   "metadata": {
    "execution": {
     "iopub.execute_input": "2024-08-10T11:19:00.061042Z",
     "iopub.status.busy": "2024-08-10T11:19:00.060627Z",
     "iopub.status.idle": "2024-08-10T11:19:18.360709Z",
     "shell.execute_reply": "2024-08-10T11:19:18.359283Z"
    },
    "papermill": {
     "duration": 18.310172,
     "end_time": "2024-08-10T11:19:18.363851",
     "exception": false,
     "start_time": "2024-08-10T11:19:00.053679",
     "status": "completed"
    },
    "tags": []
   },
   "outputs": [
    {
     "name": "stdout",
     "output_type": "stream",
     "text": [
      "Collecting researchpy\r\n",
      "  Downloading researchpy-0.3.6-py3-none-any.whl.metadata (1.2 kB)\r\n",
      "Requirement already satisfied: scipy in /opt/conda/lib/python3.10/site-packages (from researchpy) (1.11.4)\r\n",
      "Requirement already satisfied: numpy in /opt/conda/lib/python3.10/site-packages (from researchpy) (1.26.4)\r\n",
      "Requirement already satisfied: pandas in /opt/conda/lib/python3.10/site-packages (from researchpy) (2.2.2)\r\n",
      "Requirement already satisfied: statsmodels in /opt/conda/lib/python3.10/site-packages (from researchpy) (0.14.1)\r\n",
      "Requirement already satisfied: patsy in /opt/conda/lib/python3.10/site-packages (from researchpy) (0.5.6)\r\n",
      "Requirement already satisfied: python-dateutil>=2.8.2 in /opt/conda/lib/python3.10/site-packages (from pandas->researchpy) (2.9.0.post0)\r\n",
      "Requirement already satisfied: pytz>=2020.1 in /opt/conda/lib/python3.10/site-packages (from pandas->researchpy) (2023.3.post1)\r\n",
      "Requirement already satisfied: tzdata>=2022.7 in /opt/conda/lib/python3.10/site-packages (from pandas->researchpy) (2023.4)\r\n",
      "Requirement already satisfied: six in /opt/conda/lib/python3.10/site-packages (from patsy->researchpy) (1.16.0)\r\n",
      "Requirement already satisfied: packaging>=21.3 in /opt/conda/lib/python3.10/site-packages (from statsmodels->researchpy) (21.3)\r\n",
      "Requirement already satisfied: pyparsing!=3.0.5,>=2.0.2 in /opt/conda/lib/python3.10/site-packages (from packaging>=21.3->statsmodels->researchpy) (3.1.1)\r\n",
      "Downloading researchpy-0.3.6-py3-none-any.whl (34 kB)\r\n",
      "Installing collected packages: researchpy\r\n",
      "Successfully installed researchpy-0.3.6\r\n"
     ]
    }
   ],
   "source": [
    "!pip install researchpy \n",
    "import researchpy as rp # to find categorical values description and confidence interval"
   ]
  },
  {
   "cell_type": "code",
   "execution_count": 5,
   "id": "9ea22171",
   "metadata": {
    "execution": {
     "iopub.execute_input": "2024-08-10T11:19:18.377987Z",
     "iopub.status.busy": "2024-08-10T11:19:18.377551Z",
     "iopub.status.idle": "2024-08-10T11:19:18.421115Z",
     "shell.execute_reply": "2024-08-10T11:19:18.419884Z"
    },
    "papermill": {
     "duration": 0.054148,
     "end_time": "2024-08-10T11:19:18.423917",
     "exception": false,
     "start_time": "2024-08-10T11:19:18.369769",
     "status": "completed"
    },
    "tags": []
   },
   "outputs": [
    {
     "data": {
      "text/html": [
       "<div>\n",
       "<style scoped>\n",
       "    .dataframe tbody tr th:only-of-type {\n",
       "        vertical-align: middle;\n",
       "    }\n",
       "\n",
       "    .dataframe tbody tr th {\n",
       "        vertical-align: top;\n",
       "    }\n",
       "\n",
       "    .dataframe thead th {\n",
       "        text-align: right;\n",
       "    }\n",
       "</style>\n",
       "<table border=\"1\" class=\"dataframe\">\n",
       "  <thead>\n",
       "    <tr style=\"text-align: right;\">\n",
       "      <th></th>\n",
       "      <th>count</th>\n",
       "      <th>mean</th>\n",
       "      <th>std</th>\n",
       "      <th>min</th>\n",
       "      <th>25%</th>\n",
       "      <th>50%</th>\n",
       "      <th>75%</th>\n",
       "      <th>max</th>\n",
       "    </tr>\n",
       "  </thead>\n",
       "  <tbody>\n",
       "    <tr>\n",
       "      <th>PassengerId</th>\n",
       "      <td>891.0</td>\n",
       "      <td>446.000000</td>\n",
       "      <td>257.353842</td>\n",
       "      <td>1.00</td>\n",
       "      <td>223.5000</td>\n",
       "      <td>446.0000</td>\n",
       "      <td>668.5</td>\n",
       "      <td>891.0000</td>\n",
       "    </tr>\n",
       "    <tr>\n",
       "      <th>Survived</th>\n",
       "      <td>891.0</td>\n",
       "      <td>0.383838</td>\n",
       "      <td>0.486592</td>\n",
       "      <td>0.00</td>\n",
       "      <td>0.0000</td>\n",
       "      <td>0.0000</td>\n",
       "      <td>1.0</td>\n",
       "      <td>1.0000</td>\n",
       "    </tr>\n",
       "    <tr>\n",
       "      <th>Pclass</th>\n",
       "      <td>891.0</td>\n",
       "      <td>2.308642</td>\n",
       "      <td>0.836071</td>\n",
       "      <td>1.00</td>\n",
       "      <td>2.0000</td>\n",
       "      <td>3.0000</td>\n",
       "      <td>3.0</td>\n",
       "      <td>3.0000</td>\n",
       "    </tr>\n",
       "    <tr>\n",
       "      <th>Age</th>\n",
       "      <td>714.0</td>\n",
       "      <td>29.699118</td>\n",
       "      <td>14.526497</td>\n",
       "      <td>0.42</td>\n",
       "      <td>20.1250</td>\n",
       "      <td>28.0000</td>\n",
       "      <td>38.0</td>\n",
       "      <td>80.0000</td>\n",
       "    </tr>\n",
       "    <tr>\n",
       "      <th>SibSp</th>\n",
       "      <td>891.0</td>\n",
       "      <td>0.523008</td>\n",
       "      <td>1.102743</td>\n",
       "      <td>0.00</td>\n",
       "      <td>0.0000</td>\n",
       "      <td>0.0000</td>\n",
       "      <td>1.0</td>\n",
       "      <td>8.0000</td>\n",
       "    </tr>\n",
       "    <tr>\n",
       "      <th>Parch</th>\n",
       "      <td>891.0</td>\n",
       "      <td>0.381594</td>\n",
       "      <td>0.806057</td>\n",
       "      <td>0.00</td>\n",
       "      <td>0.0000</td>\n",
       "      <td>0.0000</td>\n",
       "      <td>0.0</td>\n",
       "      <td>6.0000</td>\n",
       "    </tr>\n",
       "    <tr>\n",
       "      <th>Fare</th>\n",
       "      <td>891.0</td>\n",
       "      <td>32.204208</td>\n",
       "      <td>49.693429</td>\n",
       "      <td>0.00</td>\n",
       "      <td>7.9104</td>\n",
       "      <td>14.4542</td>\n",
       "      <td>31.0</td>\n",
       "      <td>512.3292</td>\n",
       "    </tr>\n",
       "  </tbody>\n",
       "</table>\n",
       "</div>"
      ],
      "text/plain": [
       "             count        mean         std   min       25%       50%    75%       max\n",
       "PassengerId  891.0  446.000000  257.353842  1.00  223.5000  446.0000  668.5  891.0000\n",
       "Survived     891.0    0.383838    0.486592  0.00    0.0000    0.0000    1.0    1.0000\n",
       "Pclass       891.0    2.308642    0.836071  1.00    2.0000    3.0000    3.0    3.0000\n",
       "Age          714.0   29.699118   14.526497  0.42   20.1250   28.0000   38.0   80.0000\n",
       "SibSp        891.0    0.523008    1.102743  0.00    0.0000    0.0000    1.0    8.0000\n",
       "Parch        891.0    0.381594    0.806057  0.00    0.0000    0.0000    0.0    6.0000\n",
       "Fare         891.0   32.204208   49.693429  0.00    7.9104   14.4542   31.0  512.3292"
      ]
     },
     "execution_count": 5,
     "metadata": {},
     "output_type": "execute_result"
    }
   ],
   "source": [
    "train_data.describe().T # description with pandas"
   ]
  },
  {
   "cell_type": "markdown",
   "id": "07618481",
   "metadata": {
    "papermill": {
     "duration": 0.005778,
     "end_time": "2024-08-10T11:19:18.435904",
     "exception": false,
     "start_time": "2024-08-10T11:19:18.430126",
     "status": "completed"
    },
    "tags": []
   },
   "source": [
    "There are (891-714) 177 null value on Age column"
   ]
  },
  {
   "cell_type": "code",
   "execution_count": 6,
   "id": "b2764b39",
   "metadata": {
    "execution": {
     "iopub.execute_input": "2024-08-10T11:19:18.449935Z",
     "iopub.status.busy": "2024-08-10T11:19:18.449505Z",
     "iopub.status.idle": "2024-08-10T11:19:18.511614Z",
     "shell.execute_reply": "2024-08-10T11:19:18.510348Z"
    },
    "papermill": {
     "duration": 0.073413,
     "end_time": "2024-08-10T11:19:18.515392",
     "exception": false,
     "start_time": "2024-08-10T11:19:18.441979",
     "status": "completed"
    },
    "tags": []
   },
   "outputs": [
    {
     "name": "stdout",
     "output_type": "stream",
     "text": [
      "\n",
      "\n"
     ]
    },
    {
     "name": "stderr",
     "output_type": "stream",
     "text": [
      "/opt/conda/lib/python3.10/site-packages/researchpy/summary.py:102: FutureWarning: Setting an item of incompatible dtype is deprecated and will raise an error in a future version of pandas. Value 'Survived' has dtype incompatible with float64, please explicitly cast to a compatible dtype first.\n",
      "  table_a.iloc[0,0] = ix\n",
      "/opt/conda/lib/python3.10/site-packages/researchpy/summary.py:102: FutureWarning: Setting an item of incompatible dtype is deprecated and will raise an error in a future version of pandas. Value 'Pclass' has dtype incompatible with float64, please explicitly cast to a compatible dtype first.\n",
      "  table_a.iloc[0,0] = ix\n",
      "/opt/conda/lib/python3.10/site-packages/researchpy/summary.py:102: FutureWarning: Setting an item of incompatible dtype is deprecated and will raise an error in a future version of pandas. Value 'Age' has dtype incompatible with float64, please explicitly cast to a compatible dtype first.\n",
      "  table_a.iloc[0,0] = ix\n",
      "/opt/conda/lib/python3.10/site-packages/researchpy/summary.py:102: FutureWarning: Setting an item of incompatible dtype is deprecated and will raise an error in a future version of pandas. Value 'SibSp' has dtype incompatible with float64, please explicitly cast to a compatible dtype first.\n",
      "  table_a.iloc[0,0] = ix\n",
      "/opt/conda/lib/python3.10/site-packages/researchpy/summary.py:102: FutureWarning: Setting an item of incompatible dtype is deprecated and will raise an error in a future version of pandas. Value 'Parch' has dtype incompatible with float64, please explicitly cast to a compatible dtype first.\n",
      "  table_a.iloc[0,0] = ix\n",
      "/opt/conda/lib/python3.10/site-packages/researchpy/summary.py:102: FutureWarning: Setting an item of incompatible dtype is deprecated and will raise an error in a future version of pandas. Value 'Fare' has dtype incompatible with float64, please explicitly cast to a compatible dtype first.\n",
      "  table_a.iloc[0,0] = ix\n"
     ]
    },
    {
     "data": {
      "text/html": [
       "<div>\n",
       "<style scoped>\n",
       "    .dataframe tbody tr th:only-of-type {\n",
       "        vertical-align: middle;\n",
       "    }\n",
       "\n",
       "    .dataframe tbody tr th {\n",
       "        vertical-align: top;\n",
       "    }\n",
       "\n",
       "    .dataframe thead th {\n",
       "        text-align: right;\n",
       "    }\n",
       "</style>\n",
       "<table border=\"1\" class=\"dataframe\">\n",
       "  <thead>\n",
       "    <tr style=\"text-align: right;\">\n",
       "      <th></th>\n",
       "      <th>Variable</th>\n",
       "      <th>N</th>\n",
       "      <th>Mean</th>\n",
       "      <th>SD</th>\n",
       "      <th>SE</th>\n",
       "      <th>95% Conf.</th>\n",
       "      <th>Interval</th>\n",
       "    </tr>\n",
       "  </thead>\n",
       "  <tbody>\n",
       "    <tr>\n",
       "      <th>0</th>\n",
       "      <td>Survived</td>\n",
       "      <td>891.0</td>\n",
       "      <td>0.3838</td>\n",
       "      <td>0.4866</td>\n",
       "      <td>0.0163</td>\n",
       "      <td>0.3518</td>\n",
       "      <td>0.4158</td>\n",
       "    </tr>\n",
       "    <tr>\n",
       "      <th>1</th>\n",
       "      <td>Pclass</td>\n",
       "      <td>891.0</td>\n",
       "      <td>2.3086</td>\n",
       "      <td>0.8361</td>\n",
       "      <td>0.0280</td>\n",
       "      <td>2.2537</td>\n",
       "      <td>2.3636</td>\n",
       "    </tr>\n",
       "    <tr>\n",
       "      <th>2</th>\n",
       "      <td>Age</td>\n",
       "      <td>714.0</td>\n",
       "      <td>29.6991</td>\n",
       "      <td>14.5265</td>\n",
       "      <td>0.5436</td>\n",
       "      <td>28.6318</td>\n",
       "      <td>30.7664</td>\n",
       "    </tr>\n",
       "    <tr>\n",
       "      <th>3</th>\n",
       "      <td>SibSp</td>\n",
       "      <td>891.0</td>\n",
       "      <td>0.5230</td>\n",
       "      <td>1.1027</td>\n",
       "      <td>0.0369</td>\n",
       "      <td>0.4505</td>\n",
       "      <td>0.5955</td>\n",
       "    </tr>\n",
       "    <tr>\n",
       "      <th>4</th>\n",
       "      <td>Parch</td>\n",
       "      <td>891.0</td>\n",
       "      <td>0.3816</td>\n",
       "      <td>0.8061</td>\n",
       "      <td>0.0270</td>\n",
       "      <td>0.3286</td>\n",
       "      <td>0.4346</td>\n",
       "    </tr>\n",
       "    <tr>\n",
       "      <th>5</th>\n",
       "      <td>Fare</td>\n",
       "      <td>891.0</td>\n",
       "      <td>32.2042</td>\n",
       "      <td>49.6934</td>\n",
       "      <td>1.6648</td>\n",
       "      <td>28.9368</td>\n",
       "      <td>35.4716</td>\n",
       "    </tr>\n",
       "  </tbody>\n",
       "</table>\n",
       "</div>"
      ],
      "text/plain": [
       "   Variable      N     Mean       SD      SE  95% Conf.  Interval\n",
       "0  Survived  891.0   0.3838   0.4866  0.0163     0.3518    0.4158\n",
       "1    Pclass  891.0   2.3086   0.8361  0.0280     2.2537    2.3636\n",
       "2       Age  714.0  29.6991  14.5265  0.5436    28.6318   30.7664\n",
       "3     SibSp  891.0   0.5230   1.1027  0.0369     0.4505    0.5955\n",
       "4     Parch  891.0   0.3816   0.8061  0.0270     0.3286    0.4346\n",
       "5      Fare  891.0  32.2042  49.6934  1.6648    28.9368   35.4716"
      ]
     },
     "execution_count": 6,
     "metadata": {},
     "output_type": "execute_result"
    }
   ],
   "source": [
    "rp.summary_cont(train_data[[ \"Survived\", \"Pclass\", \"Age\", \"SibSp\", \"Parch\", \"Fare\"]])"
   ]
  },
  {
   "cell_type": "code",
   "execution_count": 7,
   "id": "7b34a68b",
   "metadata": {
    "execution": {
     "iopub.execute_input": "2024-08-10T11:19:18.530361Z",
     "iopub.status.busy": "2024-08-10T11:19:18.529935Z",
     "iopub.status.idle": "2024-08-10T11:19:18.560326Z",
     "shell.execute_reply": "2024-08-10T11:19:18.559127Z"
    },
    "papermill": {
     "duration": 0.041086,
     "end_time": "2024-08-10T11:19:18.563055",
     "exception": false,
     "start_time": "2024-08-10T11:19:18.521969",
     "status": "completed"
    },
    "tags": []
   },
   "outputs": [
    {
     "data": {
      "text/html": [
       "<div>\n",
       "<style scoped>\n",
       "    .dataframe tbody tr th:only-of-type {\n",
       "        vertical-align: middle;\n",
       "    }\n",
       "\n",
       "    .dataframe tbody tr th {\n",
       "        vertical-align: top;\n",
       "    }\n",
       "\n",
       "    .dataframe thead th {\n",
       "        text-align: right;\n",
       "    }\n",
       "</style>\n",
       "<table border=\"1\" class=\"dataframe\">\n",
       "  <thead>\n",
       "    <tr style=\"text-align: right;\">\n",
       "      <th></th>\n",
       "      <th>Variable</th>\n",
       "      <th>Outcome</th>\n",
       "      <th>Count</th>\n",
       "      <th>Percent</th>\n",
       "    </tr>\n",
       "  </thead>\n",
       "  <tbody>\n",
       "    <tr>\n",
       "      <th>0</th>\n",
       "      <td>Sex</td>\n",
       "      <td>male</td>\n",
       "      <td>577</td>\n",
       "      <td>64.76</td>\n",
       "    </tr>\n",
       "    <tr>\n",
       "      <th>1</th>\n",
       "      <td></td>\n",
       "      <td>female</td>\n",
       "      <td>314</td>\n",
       "      <td>35.24</td>\n",
       "    </tr>\n",
       "    <tr>\n",
       "      <th>2</th>\n",
       "      <td>Survived</td>\n",
       "      <td>0</td>\n",
       "      <td>549</td>\n",
       "      <td>61.62</td>\n",
       "    </tr>\n",
       "    <tr>\n",
       "      <th>3</th>\n",
       "      <td></td>\n",
       "      <td>1</td>\n",
       "      <td>342</td>\n",
       "      <td>38.38</td>\n",
       "    </tr>\n",
       "  </tbody>\n",
       "</table>\n",
       "</div>"
      ],
      "text/plain": [
       "   Variable Outcome  Count  Percent\n",
       "0       Sex    male    577    64.76\n",
       "1            female    314    35.24\n",
       "2  Survived       0    549    61.62\n",
       "3                 1    342    38.38"
      ]
     },
     "execution_count": 7,
     "metadata": {},
     "output_type": "execute_result"
    }
   ],
   "source": [
    "rp.summary_cat(train_data[[\"Sex\", \"Survived\"]])"
   ]
  },
  {
   "cell_type": "code",
   "execution_count": 8,
   "id": "3d8871dd",
   "metadata": {
    "execution": {
     "iopub.execute_input": "2024-08-10T11:19:18.579009Z",
     "iopub.status.busy": "2024-08-10T11:19:18.578596Z",
     "iopub.status.idle": "2024-08-10T11:19:18.611186Z",
     "shell.execute_reply": "2024-08-10T11:19:18.609871Z"
    },
    "papermill": {
     "duration": 0.043665,
     "end_time": "2024-08-10T11:19:18.613938",
     "exception": false,
     "start_time": "2024-08-10T11:19:18.570273",
     "status": "completed"
    },
    "tags": []
   },
   "outputs": [
    {
     "name": "stdout",
     "output_type": "stream",
     "text": [
      "            mean      sum    count\n",
      "        Survived Survived Survived\n",
      "Sex                               \n",
      "female  0.742038      233      314\n",
      "male    0.188908      109      577\n"
     ]
    }
   ],
   "source": [
    "pivot_table=train_data.pivot_table(values=\"Survived\",\n",
    "                                  index=\"Sex\",\n",
    "                                  aggfunc=['mean', 'sum', 'count'])\n",
    "print(pivot_table)"
   ]
  },
  {
   "cell_type": "code",
   "execution_count": 9,
   "id": "e9de768b",
   "metadata": {
    "execution": {
     "iopub.execute_input": "2024-08-10T11:19:18.629731Z",
     "iopub.status.busy": "2024-08-10T11:19:18.629341Z",
     "iopub.status.idle": "2024-08-10T11:19:18.894783Z",
     "shell.execute_reply": "2024-08-10T11:19:18.893337Z"
    },
    "papermill": {
     "duration": 0.276457,
     "end_time": "2024-08-10T11:19:18.897456",
     "exception": false,
     "start_time": "2024-08-10T11:19:18.620999",
     "status": "completed"
    },
    "tags": []
   },
   "outputs": [
    {
     "name": "stderr",
     "output_type": "stream",
     "text": [
      "/tmp/ipykernel_18/1221406598.py:4: FutureWarning: A value is trying to be set on a copy of a DataFrame or Series through chained assignment using an inplace method.\n",
      "The behavior will change in pandas 3.0. This inplace method will never work because the intermediate object on which we are setting values always behaves as a copy.\n",
      "\n",
      "For example, when doing 'df[col].method(value, inplace=True)', try using 'df.method({col: value}, inplace=True)' or df[col] = df[col].method(value) instead, to perform the operation inplace on the original object.\n",
      "\n",
      "\n",
      "  train_data[\"Age\"].fillna(train_data['Age'].median(),\n",
      "/tmp/ipykernel_18/1221406598.py:9: FutureWarning: A value is trying to be set on a copy of a DataFrame or Series through chained assignment using an inplace method.\n",
      "The behavior will change in pandas 3.0. This inplace method will never work because the intermediate object on which we are setting values always behaves as a copy.\n",
      "\n",
      "For example, when doing 'df[col].method(value, inplace=True)', try using 'df.method({col: value}, inplace=True)' or df[col] = df[col].method(value) instead, to perform the operation inplace on the original object.\n",
      "\n",
      "\n",
      "  test_data[\"Age\"].fillna(test_data['Age'].median(),\n",
      "/tmp/ipykernel_18/1221406598.py:14: FutureWarning: A value is trying to be set on a copy of a DataFrame or Series through chained assignment using an inplace method.\n",
      "The behavior will change in pandas 3.0. This inplace method will never work because the intermediate object on which we are setting values always behaves as a copy.\n",
      "\n",
      "For example, when doing 'df[col].method(value, inplace=True)', try using 'df.method({col: value}, inplace=True)' or df[col] = df[col].method(value) instead, to perform the operation inplace on the original object.\n",
      "\n",
      "\n",
      "  test_data[\"Fare\"].fillna(test_data['Fare'].median(),\n"
     ]
    },
    {
     "data": {
      "text/html": [
       "<div>\n",
       "<style scoped>\n",
       "    .dataframe tbody tr th:only-of-type {\n",
       "        vertical-align: middle;\n",
       "    }\n",
       "\n",
       "    .dataframe tbody tr th {\n",
       "        vertical-align: top;\n",
       "    }\n",
       "\n",
       "    .dataframe thead th {\n",
       "        text-align: right;\n",
       "    }\n",
       "</style>\n",
       "<table border=\"1\" class=\"dataframe\">\n",
       "  <thead>\n",
       "    <tr style=\"text-align: right;\">\n",
       "      <th></th>\n",
       "      <th>count</th>\n",
       "      <th>mean</th>\n",
       "      <th>std</th>\n",
       "      <th>min</th>\n",
       "      <th>25%</th>\n",
       "      <th>50%</th>\n",
       "      <th>75%</th>\n",
       "      <th>max</th>\n",
       "    </tr>\n",
       "  </thead>\n",
       "  <tbody>\n",
       "    <tr>\n",
       "      <th>PassengerId</th>\n",
       "      <td>418.0</td>\n",
       "      <td>1100.500000</td>\n",
       "      <td>120.810458</td>\n",
       "      <td>892.00</td>\n",
       "      <td>996.2500</td>\n",
       "      <td>1100.5000</td>\n",
       "      <td>1204.750000</td>\n",
       "      <td>1309.0000</td>\n",
       "    </tr>\n",
       "    <tr>\n",
       "      <th>Pclass</th>\n",
       "      <td>418.0</td>\n",
       "      <td>2.265550</td>\n",
       "      <td>0.841838</td>\n",
       "      <td>1.00</td>\n",
       "      <td>1.0000</td>\n",
       "      <td>3.0000</td>\n",
       "      <td>3.000000</td>\n",
       "      <td>3.0000</td>\n",
       "    </tr>\n",
       "    <tr>\n",
       "      <th>Age</th>\n",
       "      <td>418.0</td>\n",
       "      <td>29.599282</td>\n",
       "      <td>12.703770</td>\n",
       "      <td>0.17</td>\n",
       "      <td>23.0000</td>\n",
       "      <td>27.0000</td>\n",
       "      <td>35.750000</td>\n",
       "      <td>76.0000</td>\n",
       "    </tr>\n",
       "    <tr>\n",
       "      <th>SibSp</th>\n",
       "      <td>418.0</td>\n",
       "      <td>0.447368</td>\n",
       "      <td>0.896760</td>\n",
       "      <td>0.00</td>\n",
       "      <td>0.0000</td>\n",
       "      <td>0.0000</td>\n",
       "      <td>1.000000</td>\n",
       "      <td>8.0000</td>\n",
       "    </tr>\n",
       "    <tr>\n",
       "      <th>Parch</th>\n",
       "      <td>418.0</td>\n",
       "      <td>0.392344</td>\n",
       "      <td>0.981429</td>\n",
       "      <td>0.00</td>\n",
       "      <td>0.0000</td>\n",
       "      <td>0.0000</td>\n",
       "      <td>0.000000</td>\n",
       "      <td>9.0000</td>\n",
       "    </tr>\n",
       "    <tr>\n",
       "      <th>Fare</th>\n",
       "      <td>418.0</td>\n",
       "      <td>35.576535</td>\n",
       "      <td>55.850103</td>\n",
       "      <td>0.00</td>\n",
       "      <td>7.8958</td>\n",
       "      <td>14.4542</td>\n",
       "      <td>31.471875</td>\n",
       "      <td>512.3292</td>\n",
       "    </tr>\n",
       "  </tbody>\n",
       "</table>\n",
       "</div>"
      ],
      "text/plain": [
       "             count         mean         std     min       25%        50%          75%        max\n",
       "PassengerId  418.0  1100.500000  120.810458  892.00  996.2500  1100.5000  1204.750000  1309.0000\n",
       "Pclass       418.0     2.265550    0.841838    1.00    1.0000     3.0000     3.000000     3.0000\n",
       "Age          418.0    29.599282   12.703770    0.17   23.0000    27.0000    35.750000    76.0000\n",
       "SibSp        418.0     0.447368    0.896760    0.00    0.0000     0.0000     1.000000     8.0000\n",
       "Parch        418.0     0.392344    0.981429    0.00    0.0000     0.0000     0.000000     9.0000\n",
       "Fare         418.0    35.576535   55.850103    0.00    7.8958    14.4542    31.471875   512.3292"
      ]
     },
     "execution_count": 9,
     "metadata": {},
     "output_type": "execute_result"
    }
   ],
   "source": [
    "import matplotlib.pyplot as plt \n",
    "import seaborn as sns \n",
    "\n",
    "train_data[\"Age\"].fillna(train_data['Age'].median(),\n",
    "                        inplace=True)\n",
    "\n",
    "train_data.describe().T\n",
    "\n",
    "test_data[\"Age\"].fillna(test_data['Age'].median(),\n",
    "                        inplace=True)\n",
    "\n",
    "test_data.describe().T\n",
    "\n",
    "test_data[\"Fare\"].fillna(test_data['Fare'].median(),\n",
    "                        inplace=True)\n",
    "\n",
    "test_data.describe().T"
   ]
  },
  {
   "cell_type": "code",
   "execution_count": 10,
   "id": "5b71f9b9",
   "metadata": {
    "execution": {
     "iopub.execute_input": "2024-08-10T11:19:18.914000Z",
     "iopub.status.busy": "2024-08-10T11:19:18.913611Z",
     "iopub.status.idle": "2024-08-10T11:19:19.522656Z",
     "shell.execute_reply": "2024-08-10T11:19:19.521261Z"
    },
    "papermill": {
     "duration": 0.620499,
     "end_time": "2024-08-10T11:19:19.525257",
     "exception": false,
     "start_time": "2024-08-10T11:19:18.904758",
     "status": "completed"
    },
    "tags": []
   },
   "outputs": [
    {
     "data": {
      "text/plain": [
       "array([0, 0, 0, 1, 0, 0, 0, 0, 0, 0, 1, 0, 0, 1, 0, 0, 1, 0, 1, 0, 0, 0,\n",
       "       1, 0, 1, 0, 0, 0, 0, 1, 0, 0, 0, 1, 0, 0, 1, 0, 0, 1, 0, 1, 0, 0,\n",
       "       0, 0, 0, 1, 0, 0, 0, 1, 0, 0, 1, 0, 1, 0, 1, 0, 0, 0, 0, 0, 1, 1,\n",
       "       0, 0, 0, 0, 0, 0, 0, 0, 1, 0, 1, 0, 0, 0, 1, 0, 1, 1, 1, 1, 1, 0,\n",
       "       1, 0, 0, 1, 1, 1, 0, 0, 0, 0, 0, 0, 0, 1, 1, 0, 0, 0, 0, 1, 1, 0,\n",
       "       0, 1, 0, 0, 1, 0, 1, 1, 0, 0, 1, 1, 1, 0, 1, 0, 0, 1, 0, 0, 0, 1,\n",
       "       1, 1, 0, 0, 0, 0, 0, 0, 0, 0, 0, 0, 0, 0, 1, 0, 1, 0, 0, 1, 0, 0,\n",
       "       1, 0, 0, 0, 0, 0, 1, 0, 0, 1, 0, 0, 1, 0, 1, 0, 1, 1, 0, 1, 0, 1,\n",
       "       0, 0, 0, 0, 0, 0, 0, 1, 1, 0, 0, 0, 1, 0, 0, 1, 0, 0, 0, 0, 1, 0,\n",
       "       0, 1, 1, 1, 0, 0, 0, 1, 1, 0, 0, 0, 0, 1, 0, 0, 0, 0, 1, 0, 0, 1,\n",
       "       0, 0, 0, 0, 1, 1, 0, 1, 0, 0, 0, 0, 0, 1, 0, 0, 0, 0, 0, 1, 0, 0,\n",
       "       0, 1, 1, 0, 0, 0, 0, 1, 1, 0, 1, 0, 0, 1, 1, 0, 0, 0, 0, 0, 0, 1,\n",
       "       0, 1, 1, 1, 1, 0, 0, 1, 0, 1, 1, 0, 0, 0, 0, 0, 0, 1, 1, 0, 0, 0,\n",
       "       1, 0, 1, 1, 1, 0, 1, 1, 0, 0, 1, 1, 0, 0, 0, 1, 0, 0, 1, 0, 0, 1,\n",
       "       0, 0, 0, 0, 1, 0, 0, 0, 0, 0, 1, 0, 0, 0, 0, 0, 0, 0, 1, 0, 0, 0,\n",
       "       1, 0, 1, 0, 1, 0, 0, 0, 0, 1, 0, 0, 1, 1, 1, 0, 0, 0, 0, 0, 0, 0,\n",
       "       0, 1, 1, 0, 0, 1, 1, 0, 0, 0, 0, 1, 0, 1, 1, 0, 0, 0, 0, 0, 1, 0,\n",
       "       0, 0, 0, 0, 0, 1, 1, 0, 1, 0, 1, 0, 0, 0, 0, 1, 0, 0, 1, 0, 0, 0,\n",
       "       0, 1, 0, 0, 0, 0, 0, 0, 0, 0, 0, 0, 1, 1, 1, 0, 0, 1, 0, 0, 1, 1])"
      ]
     },
     "execution_count": 10,
     "metadata": {},
     "output_type": "execute_result"
    }
   ],
   "source": [
    "#solving with decision tree and using just age feature\n",
    "y=train_data.Survived \n",
    "x_feature=[ 'Age']\n",
    "X=train_data[x_feature]\n",
    "X_test=test_data[x_feature]\n",
    "from sklearn.tree import DecisionTreeClassifier\n",
    "model=DecisionTreeClassifier(random_state=0)\n",
    "model.fit(X,y)\n",
    "predict_X=model.predict(X_test)\n",
    "predict_X"
   ]
  }
 ],
 "metadata": {
  "kaggle": {
   "accelerator": "none",
   "dataSources": [
    {
     "databundleVersionId": 26502,
     "sourceId": 3136,
     "sourceType": "competition"
    }
   ],
   "dockerImageVersionId": 30746,
   "isGpuEnabled": false,
   "isInternetEnabled": true,
   "language": "python",
   "sourceType": "notebook"
  },
  "kernelspec": {
   "display_name": "Python 3",
   "language": "python",
   "name": "python3"
  },
  "language_info": {
   "codemirror_mode": {
    "name": "ipython",
    "version": 3
   },
   "file_extension": ".py",
   "mimetype": "text/x-python",
   "name": "python",
   "nbconvert_exporter": "python",
   "pygments_lexer": "ipython3",
   "version": "3.10.13"
  },
  "papermill": {
   "default_parameters": {},
   "duration": 24.541481,
   "end_time": "2024-08-10T11:19:20.254708",
   "environment_variables": {},
   "exception": null,
   "input_path": "__notebook__.ipynb",
   "output_path": "__notebook__.ipynb",
   "parameters": {},
   "start_time": "2024-08-10T11:18:55.713227",
   "version": "2.5.0"
  }
 },
 "nbformat": 4,
 "nbformat_minor": 5
}
